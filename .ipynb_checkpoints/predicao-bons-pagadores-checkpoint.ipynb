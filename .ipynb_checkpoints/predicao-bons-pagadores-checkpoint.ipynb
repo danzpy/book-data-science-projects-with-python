{
 "cells": [
  {
   "cell_type": "markdown",
   "id": "cbd111b3-aa60-4b98-a15a-2feeffe37439",
   "metadata": {},
   "source": [
    "### Imports"
   ]
  },
  {
   "cell_type": "code",
   "execution_count": 1,
   "id": "7f1e5e9d-b5ad-42f6-b0fc-100550b42043",
   "metadata": {},
   "outputs": [],
   "source": [
    "import pandas as pd\n",
    "import matplotlib.pyplot as plt\n",
    "import seaborn as sns"
   ]
  },
  {
   "cell_type": "markdown",
   "id": "4a192df4-c251-495c-9682-eb1234a56740",
   "metadata": {},
   "source": [
    "### Configurações"
   ]
  },
  {
   "cell_type": "code",
   "execution_count": 2,
   "id": "b338b4f7-98aa-414f-8759-d4adde9f93d5",
   "metadata": {},
   "outputs": [],
   "source": [
    "pd.set_option('display.max_columns', 500)"
   ]
  },
  {
   "cell_type": "markdown",
   "id": "5ca92ec1-da8f-4b6a-b49a-84e9079ef963",
   "metadata": {},
   "source": [
    "# Predição de bons pagadores (Crédito)\n",
    "\n",
    "##### **Contexto**:\n",
    "Uma empresa de cartões de crédito disponibilizou uma base de dados, contendo informações demográficas e financiais, de seus clientes. Cada linha representa uma conta bancária.\n",
    "\n",
    "##### **Objetivo**:\n",
    "Criar um modelo capaz de captar a inadimplência dos clientes no próximo mês."
   ]
  },
  {
   "cell_type": "markdown",
   "id": "0eb90192-8382-4696-8abc-87624f445c26",
   "metadata": {},
   "source": [
    "## Iniciando o projeto*\n",
    "\n",
    "*_OBS:_* _Uma boa prática ao se iniciar um projeto em dados, é separar o dataset para que não ocorra vazamento de dados (data leakage). Essa abordagem não foi utilizada pelo autor. Sendo assim, não será realizada a separação nesta etapa do projeto._"
   ]
  },
  {
   "cell_type": "markdown",
   "id": "104ccd96-e409-4144-8b30-c368c0048661",
   "metadata": {},
   "source": [
    "### Exploração dos dados"
   ]
  },
  {
   "cell_type": "code",
   "execution_count": 3,
   "id": "820ac07e-4ed1-47f1-9aac-922e56efad5c",
   "metadata": {},
   "outputs": [],
   "source": [
    "df = pd.read_excel('data/default_of_credit_card_clients__courseware_version_1_21_19.xls')"
   ]
  },
  {
   "cell_type": "code",
   "execution_count": 4,
   "id": "bf918aaf-54ad-4203-9315-7f930bee2884",
   "metadata": {},
   "outputs": [
    {
     "data": {
      "text/html": [
       "<div>\n",
       "<style scoped>\n",
       "    .dataframe tbody tr th:only-of-type {\n",
       "        vertical-align: middle;\n",
       "    }\n",
       "\n",
       "    .dataframe tbody tr th {\n",
       "        vertical-align: top;\n",
       "    }\n",
       "\n",
       "    .dataframe thead th {\n",
       "        text-align: right;\n",
       "    }\n",
       "</style>\n",
       "<table border=\"1\" class=\"dataframe\">\n",
       "  <thead>\n",
       "    <tr style=\"text-align: right;\">\n",
       "      <th></th>\n",
       "      <th>ID</th>\n",
       "      <th>LIMIT_BAL</th>\n",
       "      <th>SEX</th>\n",
       "      <th>EDUCATION</th>\n",
       "      <th>MARRIAGE</th>\n",
       "      <th>AGE</th>\n",
       "      <th>PAY_1</th>\n",
       "      <th>PAY_2</th>\n",
       "      <th>PAY_3</th>\n",
       "      <th>PAY_4</th>\n",
       "      <th>PAY_5</th>\n",
       "      <th>PAY_6</th>\n",
       "      <th>BILL_AMT1</th>\n",
       "      <th>BILL_AMT2</th>\n",
       "      <th>BILL_AMT3</th>\n",
       "      <th>BILL_AMT4</th>\n",
       "      <th>BILL_AMT5</th>\n",
       "      <th>BILL_AMT6</th>\n",
       "      <th>PAY_AMT1</th>\n",
       "      <th>PAY_AMT2</th>\n",
       "      <th>PAY_AMT3</th>\n",
       "      <th>PAY_AMT4</th>\n",
       "      <th>PAY_AMT5</th>\n",
       "      <th>PAY_AMT6</th>\n",
       "      <th>default payment next month</th>\n",
       "    </tr>\n",
       "  </thead>\n",
       "  <tbody>\n",
       "    <tr>\n",
       "      <th>0</th>\n",
       "      <td>798fc410-45c1</td>\n",
       "      <td>20000</td>\n",
       "      <td>2</td>\n",
       "      <td>2</td>\n",
       "      <td>1</td>\n",
       "      <td>24</td>\n",
       "      <td>2</td>\n",
       "      <td>2</td>\n",
       "      <td>-1</td>\n",
       "      <td>-1</td>\n",
       "      <td>-2</td>\n",
       "      <td>-2</td>\n",
       "      <td>3913</td>\n",
       "      <td>3102</td>\n",
       "      <td>689</td>\n",
       "      <td>0</td>\n",
       "      <td>0</td>\n",
       "      <td>0</td>\n",
       "      <td>0</td>\n",
       "      <td>689</td>\n",
       "      <td>0</td>\n",
       "      <td>0</td>\n",
       "      <td>0</td>\n",
       "      <td>0</td>\n",
       "      <td>1</td>\n",
       "    </tr>\n",
       "    <tr>\n",
       "      <th>1</th>\n",
       "      <td>8a8c8f3b-8eb4</td>\n",
       "      <td>120000</td>\n",
       "      <td>2</td>\n",
       "      <td>2</td>\n",
       "      <td>2</td>\n",
       "      <td>26</td>\n",
       "      <td>-1</td>\n",
       "      <td>2</td>\n",
       "      <td>0</td>\n",
       "      <td>0</td>\n",
       "      <td>0</td>\n",
       "      <td>2</td>\n",
       "      <td>2682</td>\n",
       "      <td>1725</td>\n",
       "      <td>2682</td>\n",
       "      <td>3272</td>\n",
       "      <td>3455</td>\n",
       "      <td>3261</td>\n",
       "      <td>0</td>\n",
       "      <td>1000</td>\n",
       "      <td>1000</td>\n",
       "      <td>1000</td>\n",
       "      <td>0</td>\n",
       "      <td>2000</td>\n",
       "      <td>1</td>\n",
       "    </tr>\n",
       "    <tr>\n",
       "      <th>2</th>\n",
       "      <td>85698822-43f5</td>\n",
       "      <td>90000</td>\n",
       "      <td>2</td>\n",
       "      <td>2</td>\n",
       "      <td>2</td>\n",
       "      <td>34</td>\n",
       "      <td>0</td>\n",
       "      <td>0</td>\n",
       "      <td>0</td>\n",
       "      <td>0</td>\n",
       "      <td>0</td>\n",
       "      <td>0</td>\n",
       "      <td>29239</td>\n",
       "      <td>14027</td>\n",
       "      <td>13559</td>\n",
       "      <td>14331</td>\n",
       "      <td>14948</td>\n",
       "      <td>15549</td>\n",
       "      <td>1518</td>\n",
       "      <td>1500</td>\n",
       "      <td>1000</td>\n",
       "      <td>1000</td>\n",
       "      <td>1000</td>\n",
       "      <td>5000</td>\n",
       "      <td>0</td>\n",
       "    </tr>\n",
       "    <tr>\n",
       "      <th>3</th>\n",
       "      <td>0737c11b-be42</td>\n",
       "      <td>50000</td>\n",
       "      <td>2</td>\n",
       "      <td>2</td>\n",
       "      <td>1</td>\n",
       "      <td>37</td>\n",
       "      <td>0</td>\n",
       "      <td>0</td>\n",
       "      <td>0</td>\n",
       "      <td>0</td>\n",
       "      <td>0</td>\n",
       "      <td>0</td>\n",
       "      <td>46990</td>\n",
       "      <td>48233</td>\n",
       "      <td>49291</td>\n",
       "      <td>28314</td>\n",
       "      <td>28959</td>\n",
       "      <td>29547</td>\n",
       "      <td>2000</td>\n",
       "      <td>2019</td>\n",
       "      <td>1200</td>\n",
       "      <td>1100</td>\n",
       "      <td>1069</td>\n",
       "      <td>1000</td>\n",
       "      <td>0</td>\n",
       "    </tr>\n",
       "    <tr>\n",
       "      <th>4</th>\n",
       "      <td>3b7f77cc-dbc0</td>\n",
       "      <td>50000</td>\n",
       "      <td>1</td>\n",
       "      <td>2</td>\n",
       "      <td>1</td>\n",
       "      <td>57</td>\n",
       "      <td>-1</td>\n",
       "      <td>0</td>\n",
       "      <td>-1</td>\n",
       "      <td>0</td>\n",
       "      <td>0</td>\n",
       "      <td>0</td>\n",
       "      <td>8617</td>\n",
       "      <td>5670</td>\n",
       "      <td>35835</td>\n",
       "      <td>20940</td>\n",
       "      <td>19146</td>\n",
       "      <td>19131</td>\n",
       "      <td>2000</td>\n",
       "      <td>36681</td>\n",
       "      <td>10000</td>\n",
       "      <td>9000</td>\n",
       "      <td>689</td>\n",
       "      <td>679</td>\n",
       "      <td>0</td>\n",
       "    </tr>\n",
       "  </tbody>\n",
       "</table>\n",
       "</div>"
      ],
      "text/plain": [
       "              ID  LIMIT_BAL  SEX  EDUCATION  MARRIAGE  AGE PAY_1  PAY_2  \\\n",
       "0  798fc410-45c1      20000    2          2         1   24     2      2   \n",
       "1  8a8c8f3b-8eb4     120000    2          2         2   26    -1      2   \n",
       "2  85698822-43f5      90000    2          2         2   34     0      0   \n",
       "3  0737c11b-be42      50000    2          2         1   37     0      0   \n",
       "4  3b7f77cc-dbc0      50000    1          2         1   57    -1      0   \n",
       "\n",
       "   PAY_3  PAY_4  PAY_5  PAY_6  BILL_AMT1  BILL_AMT2  BILL_AMT3  BILL_AMT4  \\\n",
       "0     -1     -1     -2     -2       3913       3102        689          0   \n",
       "1      0      0      0      2       2682       1725       2682       3272   \n",
       "2      0      0      0      0      29239      14027      13559      14331   \n",
       "3      0      0      0      0      46990      48233      49291      28314   \n",
       "4     -1      0      0      0       8617       5670      35835      20940   \n",
       "\n",
       "   BILL_AMT5  BILL_AMT6  PAY_AMT1  PAY_AMT2  PAY_AMT3  PAY_AMT4  PAY_AMT5  \\\n",
       "0          0          0         0       689         0         0         0   \n",
       "1       3455       3261         0      1000      1000      1000         0   \n",
       "2      14948      15549      1518      1500      1000      1000      1000   \n",
       "3      28959      29547      2000      2019      1200      1100      1069   \n",
       "4      19146      19131      2000     36681     10000      9000       689   \n",
       "\n",
       "   PAY_AMT6  default payment next month  \n",
       "0         0                           1  \n",
       "1      2000                           1  \n",
       "2      5000                           0  \n",
       "3      1000                           0  \n",
       "4       679                           0  "
      ]
     },
     "execution_count": 4,
     "metadata": {},
     "output_type": "execute_result"
    }
   ],
   "source": [
    "df.head(5)"
   ]
  },
  {
   "cell_type": "code",
   "execution_count": 5,
   "id": "dacc2c1f-b97c-41f7-acca-36eef2514f5e",
   "metadata": {},
   "outputs": [
    {
     "name": "stdout",
     "output_type": "stream",
     "text": [
      "<class 'pandas.core.frame.DataFrame'>\n",
      "RangeIndex: 30000 entries, 0 to 29999\n",
      "Data columns (total 25 columns):\n",
      " #   Column                      Non-Null Count  Dtype \n",
      "---  ------                      --------------  ----- \n",
      " 0   ID                          30000 non-null  object\n",
      " 1   LIMIT_BAL                   30000 non-null  int64 \n",
      " 2   SEX                         30000 non-null  int64 \n",
      " 3   EDUCATION                   30000 non-null  int64 \n",
      " 4   MARRIAGE                    30000 non-null  int64 \n",
      " 5   AGE                         30000 non-null  int64 \n",
      " 6   PAY_1                       30000 non-null  object\n",
      " 7   PAY_2                       30000 non-null  int64 \n",
      " 8   PAY_3                       30000 non-null  int64 \n",
      " 9   PAY_4                       30000 non-null  int64 \n",
      " 10  PAY_5                       30000 non-null  int64 \n",
      " 11  PAY_6                       30000 non-null  int64 \n",
      " 12  BILL_AMT1                   30000 non-null  int64 \n",
      " 13  BILL_AMT2                   30000 non-null  int64 \n",
      " 14  BILL_AMT3                   30000 non-null  int64 \n",
      " 15  BILL_AMT4                   30000 non-null  int64 \n",
      " 16  BILL_AMT5                   30000 non-null  int64 \n",
      " 17  BILL_AMT6                   30000 non-null  int64 \n",
      " 18  PAY_AMT1                    30000 non-null  int64 \n",
      " 19  PAY_AMT2                    30000 non-null  int64 \n",
      " 20  PAY_AMT3                    30000 non-null  int64 \n",
      " 21  PAY_AMT4                    30000 non-null  int64 \n",
      " 22  PAY_AMT5                    30000 non-null  int64 \n",
      " 23  PAY_AMT6                    30000 non-null  int64 \n",
      " 24  default payment next month  30000 non-null  int64 \n",
      "dtypes: int64(23), object(2)\n",
      "memory usage: 5.7+ MB\n"
     ]
    }
   ],
   "source": [
    "df.info()"
   ]
  },
  {
   "cell_type": "markdown",
   "id": "b053a9d4-7926-4f11-a3b1-b055535b20d4",
   "metadata": {},
   "source": [
    "##### 1. How many columns are there in the data?\n",
    "##### 2. How many rows (samples)?"
   ]
  },
  {
   "cell_type": "code",
   "execution_count": 6,
   "id": "b835d21d-c8a4-4653-a24b-e8066b50e2d6",
   "metadata": {},
   "outputs": [
    {
     "name": "stdout",
     "output_type": "stream",
     "text": [
      "Esse conjunto de dados possui 30000 observações e 25 variáveis. Sendo elas:\n",
      "\n",
      "ID, LIMIT_BAL, SEX, EDUCATION, MARRIAGE, AGE, PAY_1, PAY_2, PAY_3, PAY_4, PAY_5, PAY_6, BILL_AMT1, BILL_AMT2, BILL_AMT3, BILL_AMT4, BILL_AMT5, BILL_AMT6, PAY_AMT1, PAY_AMT2, PAY_AMT3, PAY_AMT4, PAY_AMT5, PAY_AMT6, default payment next month, \n"
     ]
    }
   ],
   "source": [
    "colunas = ''\n",
    "\n",
    "for coluna in df.columns:\n",
    "    colunas += coluna + ', '\n",
    "    \n",
    "print(f'Esse conjunto de dados possui {df.shape[0]} observações e {df.shape[1]} variáveis. Sendo elas:\\n\\n{colunas}')"
   ]
  },
  {
   "cell_type": "markdown",
   "id": "206a205e-2e84-4045-b54d-cc3bfbd02957",
   "metadata": {},
   "source": [
    "##### 3. What kind of features are there? Which are categorical and which are numerical?"
   ]
  },
  {
   "cell_type": "code",
   "execution_count": 7,
   "id": "b288809f-ce83-42d3-929b-0b0e70973f02",
   "metadata": {},
   "outputs": [
    {
     "name": "stdout",
     "output_type": "stream",
     "text": [
      "Das colunas presentes, 23 são numéricas e 2 são categóricas\n"
     ]
    }
   ],
   "source": [
    "colunas_numericas = [column for column in df.columns if df[column].dtype == 'int64']\n",
    "colunas_categoricas = [column for column in df.columns if df[column].dtype == 'object']\n",
    "\n",
    "print(f'Das colunas presentes, {len(colunas_numericas)} são numéricas e {len(colunas_categoricas)} são categóricas')"
   ]
  },
  {
   "cell_type": "markdown",
   "id": "5e414734-879b-45a8-ab1f-1f06c544ca99",
   "metadata": {},
   "source": [
    "##### 4. What does the data look like in these features?"
   ]
  },
  {
   "cell_type": "markdown",
   "id": "cd169bb8-db30-4388-8970-b9c48c16d2ae",
   "metadata": {},
   "source": [
    "##### Podemos encontrar um pequeno problema. A coluna \"**PAY_1**\" está sendo classificada como categórica, porém, seus dados são numéricos."
   ]
  },
  {
   "cell_type": "code",
   "execution_count": 8,
   "id": "b0a85a93-d6a6-4630-b442-e6fa2b9c9b53",
   "metadata": {},
   "outputs": [
    {
     "data": {
      "text/html": [
       "<div>\n",
       "<style scoped>\n",
       "    .dataframe tbody tr th:only-of-type {\n",
       "        vertical-align: middle;\n",
       "    }\n",
       "\n",
       "    .dataframe tbody tr th {\n",
       "        vertical-align: top;\n",
       "    }\n",
       "\n",
       "    .dataframe thead th {\n",
       "        text-align: right;\n",
       "    }\n",
       "</style>\n",
       "<table border=\"1\" class=\"dataframe\">\n",
       "  <thead>\n",
       "    <tr style=\"text-align: right;\">\n",
       "      <th></th>\n",
       "      <th>ID</th>\n",
       "      <th>PAY_1</th>\n",
       "    </tr>\n",
       "  </thead>\n",
       "  <tbody>\n",
       "    <tr>\n",
       "      <th>0</th>\n",
       "      <td>798fc410-45c1</td>\n",
       "      <td>2</td>\n",
       "    </tr>\n",
       "    <tr>\n",
       "      <th>1</th>\n",
       "      <td>8a8c8f3b-8eb4</td>\n",
       "      <td>-1</td>\n",
       "    </tr>\n",
       "    <tr>\n",
       "      <th>2</th>\n",
       "      <td>85698822-43f5</td>\n",
       "      <td>0</td>\n",
       "    </tr>\n",
       "    <tr>\n",
       "      <th>3</th>\n",
       "      <td>0737c11b-be42</td>\n",
       "      <td>0</td>\n",
       "    </tr>\n",
       "    <tr>\n",
       "      <th>4</th>\n",
       "      <td>3b7f77cc-dbc0</td>\n",
       "      <td>-1</td>\n",
       "    </tr>\n",
       "  </tbody>\n",
       "</table>\n",
       "</div>"
      ],
      "text/plain": [
       "              ID PAY_1\n",
       "0  798fc410-45c1     2\n",
       "1  8a8c8f3b-8eb4    -1\n",
       "2  85698822-43f5     0\n",
       "3  0737c11b-be42     0\n",
       "4  3b7f77cc-dbc0    -1"
      ]
     },
     "execution_count": 8,
     "metadata": {},
     "output_type": "execute_result"
    }
   ],
   "source": [
    "df[colunas_categoricas].head()"
   ]
  },
  {
   "cell_type": "markdown",
   "id": "2b20ee8d-5abe-419f-af4c-4d2ba475dec8",
   "metadata": {},
   "source": [
    "##### Dicionário criado para facilitar a identificação das variáveis durante o projeto."
   ]
  },
  {
   "cell_type": "code",
   "execution_count": 9,
   "id": "28336ce4-f57c-446e-b7c1-8b63f5dce5b3",
   "metadata": {},
   "outputs": [],
   "source": [
    "info_var = {\n",
    "    \"LIMIT_BAL\": \"Amount of the credit provided (in New Taiwanese (NT) dollar) including individual consumer credit and the family (supplementary) credit.\",\n",
    "    \"SEX\": \"Gender (1 = male; 2 = female).\",\n",
    "    \"EDUCATION\": \"Education (1 = graduate school; 2 = university; 3 = high school; 4 = others).\",\n",
    "    \"MARRIAGE\": \"Marital status (1 = married; 2 = single; 3 = others).\",\n",
    "    \"AGE\": \"Age (year).\",\n",
    "    \"PAY_1\": \"A record of past payments. Represents the repayment status in September. (-2 = the account started that month with a zero balance, and never used any credit; 0 = At least the minimum payment was made, but the entire balance wasn't paid; -1 = pay duly; 1 = payment delay for one month and so on..)\",\n",
    "    \"PAY_2\": \"A record of past payments. Represents the repayment status in August. (-2 = the account started that month with a zero balance, and never used any credit; 0 = At least the minimum payment was made, but the entire balance wasn't paid; -1 = pay duly; 1 = payment delay for one month and so on..)\",\n",
    "    \"PAY_3\": \"A record of past payments. Represents the repayment status in July. (-2 = the account started that month with a zero balance, and never used any credit; 0 = At least the minimum payment was made, but the entire balance wasn't paid; -1 = pay duly; 1 = payment delay for one month and so on..)\",\n",
    "    \"PAY_4\": \"A record of past payments. Represents the repayment status in June. (-2 = the account started that month with a zero balance, and never used any credit; 0 = At least the minimum payment was made, but the entire balance wasn't paid; -1 = pay duly; 1 = payment delay for one month and so on..)\",\n",
    "    \"PAY_5\": \"A record of past payments. Represents the repayment status in May. (-2 = the account started that month with a zero balance, and never used any credit; 0 = At least the minimum payment was made, but the entire balance wasn't paid; -1 = pay duly; 1 = payment delay for one month and so on..)\",\n",
    "    \"PAY_6\": \"A record of past payments. Represents the repayment status in April. (-2 = the account started that month with a zero balance, and never used any credit; 0 = At least the minimum payment was made, but the entire balance wasn't paid; -1 = pay duly; 1 = payment delay for one month and so on..)\",\n",
    "    \"BILL_AMT1\": \"Represents the bill statement (in NT dollar) amount in September\",\n",
    "    \"BILL_AMT2\": \"Represents the bill statement (in NT dollar) amount in August\",\n",
    "    \"BILL_AMT3\": \"Represents the bill statement (in NT dollar) amount in July\",\n",
    "    \"BILL_AMT4\": \"Represents the bill statement (in NT dollar) amount in June\",\n",
    "    \"BILL_AMT5\": \"Represents the bill statement (in NT dollar) amount in May\",\n",
    "    \"BILL_AMT6\": \"Represents the bill statement (in NT dollar) amount in April\",\n",
    "    \"PAY_AMT1\" : \"Amount of previous payment (NT dollar). Represents the amount paid in September\",\n",
    "    \"PAY_AMT2\" : \"Amount of previous payment (NT dollar). Represents the amount paid in August\",\n",
    "    \"PAY_AMT3\" : \"Amount of previous payment (NT dollar). Represents the amount paid in July\",\n",
    "    \"PAY_AMT4\" : \"Amount of previous payment (NT dollar). Represents the amount paid in June\",\n",
    "    \"PAY_AMT5\" : \"Amount of previous payment (NT dollar). Represents the amount paid in May\",\n",
    "    \"PAY_AMT6\" : \"Amount of previous payment (NT dollar). Represents the amount paid in April\"\n",
    "}"
   ]
  },
  {
   "cell_type": "markdown",
   "id": "c90f16c9-0b55-4a8b-9575-4162d0fdefd4",
   "metadata": {},
   "source": [
    "##### Validando se os números de ID's não estão repetidos."
   ]
  },
  {
   "cell_type": "code",
   "execution_count": 10,
   "id": "41969618-4e2d-4c82-a1e0-c8ebe8ce936e",
   "metadata": {},
   "outputs": [
    {
     "data": {
      "text/plain": [
       "29687"
      ]
     },
     "execution_count": 10,
     "metadata": {},
     "output_type": "execute_result"
    }
   ],
   "source": [
    "df[\"ID\"].nunique()"
   ]
  },
  {
   "cell_type": "code",
   "execution_count": 11,
   "id": "1b6b8e68-be8f-4d06-8093-82da98b6a006",
   "metadata": {},
   "outputs": [
    {
     "data": {
      "text/plain": [
       "count\n",
       "1    29374\n",
       "2      313\n",
       "Name: count, dtype: int64"
      ]
     },
     "execution_count": 11,
     "metadata": {},
     "output_type": "execute_result"
    }
   ],
   "source": [
    "df[\"ID\"].value_counts().value_counts()"
   ]
  },
  {
   "cell_type": "markdown",
   "id": "1e05f58b-3202-4524-b00e-fa09a949c3b3",
   "metadata": {},
   "source": [
    "###### Existem 313 casos de ID's repetidos."
   ]
  },
  {
   "cell_type": "code",
   "execution_count": 12,
   "id": "84030b86-7943-4b8d-8338-65a139b21143",
   "metadata": {},
   "outputs": [
    {
     "data": {
      "text/html": [
       "<div>\n",
       "<style scoped>\n",
       "    .dataframe tbody tr th:only-of-type {\n",
       "        vertical-align: middle;\n",
       "    }\n",
       "\n",
       "    .dataframe tbody tr th {\n",
       "        vertical-align: top;\n",
       "    }\n",
       "\n",
       "    .dataframe thead th {\n",
       "        text-align: right;\n",
       "    }\n",
       "</style>\n",
       "<table border=\"1\" class=\"dataframe\">\n",
       "  <thead>\n",
       "    <tr style=\"text-align: right;\">\n",
       "      <th></th>\n",
       "      <th>ID</th>\n",
       "      <th>LIMIT_BAL</th>\n",
       "      <th>SEX</th>\n",
       "      <th>EDUCATION</th>\n",
       "      <th>MARRIAGE</th>\n",
       "      <th>AGE</th>\n",
       "      <th>PAY_1</th>\n",
       "      <th>PAY_2</th>\n",
       "      <th>PAY_3</th>\n",
       "      <th>PAY_4</th>\n",
       "      <th>PAY_5</th>\n",
       "      <th>PAY_6</th>\n",
       "      <th>BILL_AMT1</th>\n",
       "      <th>BILL_AMT2</th>\n",
       "      <th>BILL_AMT3</th>\n",
       "      <th>BILL_AMT4</th>\n",
       "      <th>BILL_AMT5</th>\n",
       "      <th>BILL_AMT6</th>\n",
       "      <th>PAY_AMT1</th>\n",
       "      <th>PAY_AMT2</th>\n",
       "      <th>PAY_AMT3</th>\n",
       "      <th>PAY_AMT4</th>\n",
       "      <th>PAY_AMT5</th>\n",
       "      <th>PAY_AMT6</th>\n",
       "      <th>default payment next month</th>\n",
       "    </tr>\n",
       "  </thead>\n",
       "  <tbody>\n",
       "    <tr>\n",
       "      <th>8746</th>\n",
       "      <td>ffb9a143-c375</td>\n",
       "      <td>80000</td>\n",
       "      <td>1</td>\n",
       "      <td>1</td>\n",
       "      <td>2</td>\n",
       "      <td>27</td>\n",
       "      <td>0</td>\n",
       "      <td>0</td>\n",
       "      <td>0</td>\n",
       "      <td>0</td>\n",
       "      <td>0</td>\n",
       "      <td>0</td>\n",
       "      <td>42653</td>\n",
       "      <td>46609</td>\n",
       "      <td>47306</td>\n",
       "      <td>51179</td>\n",
       "      <td>52073</td>\n",
       "      <td>52833</td>\n",
       "      <td>5000</td>\n",
       "      <td>1801</td>\n",
       "      <td>5000</td>\n",
       "      <td>2035</td>\n",
       "      <td>2100</td>\n",
       "      <td>6200</td>\n",
       "      <td>0</td>\n",
       "    </tr>\n",
       "    <tr>\n",
       "      <th>8846</th>\n",
       "      <td>ffb9a143-c375</td>\n",
       "      <td>0</td>\n",
       "      <td>0</td>\n",
       "      <td>0</td>\n",
       "      <td>0</td>\n",
       "      <td>0</td>\n",
       "      <td>0</td>\n",
       "      <td>0</td>\n",
       "      <td>0</td>\n",
       "      <td>0</td>\n",
       "      <td>0</td>\n",
       "      <td>0</td>\n",
       "      <td>0</td>\n",
       "      <td>0</td>\n",
       "      <td>0</td>\n",
       "      <td>0</td>\n",
       "      <td>0</td>\n",
       "      <td>0</td>\n",
       "      <td>0</td>\n",
       "      <td>0</td>\n",
       "      <td>0</td>\n",
       "      <td>0</td>\n",
       "      <td>0</td>\n",
       "      <td>0</td>\n",
       "      <td>0</td>\n",
       "    </tr>\n",
       "    <tr>\n",
       "      <th>2105</th>\n",
       "      <td>ffa0f012-3bd7</td>\n",
       "      <td>0</td>\n",
       "      <td>0</td>\n",
       "      <td>0</td>\n",
       "      <td>0</td>\n",
       "      <td>0</td>\n",
       "      <td>0</td>\n",
       "      <td>0</td>\n",
       "      <td>0</td>\n",
       "      <td>0</td>\n",
       "      <td>0</td>\n",
       "      <td>0</td>\n",
       "      <td>0</td>\n",
       "      <td>0</td>\n",
       "      <td>0</td>\n",
       "      <td>0</td>\n",
       "      <td>0</td>\n",
       "      <td>0</td>\n",
       "      <td>0</td>\n",
       "      <td>0</td>\n",
       "      <td>0</td>\n",
       "      <td>0</td>\n",
       "      <td>0</td>\n",
       "      <td>0</td>\n",
       "      <td>0</td>\n",
       "    </tr>\n",
       "    <tr>\n",
       "      <th>2005</th>\n",
       "      <td>ffa0f012-3bd7</td>\n",
       "      <td>20000</td>\n",
       "      <td>1</td>\n",
       "      <td>2</td>\n",
       "      <td>2</td>\n",
       "      <td>34</td>\n",
       "      <td>Not available</td>\n",
       "      <td>-2</td>\n",
       "      <td>-2</td>\n",
       "      <td>-2</td>\n",
       "      <td>-2</td>\n",
       "      <td>-2</td>\n",
       "      <td>2199</td>\n",
       "      <td>1530</td>\n",
       "      <td>750</td>\n",
       "      <td>2280</td>\n",
       "      <td>1500</td>\n",
       "      <td>780</td>\n",
       "      <td>1530</td>\n",
       "      <td>750</td>\n",
       "      <td>1140</td>\n",
       "      <td>3000</td>\n",
       "      <td>780</td>\n",
       "      <td>0</td>\n",
       "      <td>0</td>\n",
       "    </tr>\n",
       "    <tr>\n",
       "      <th>20226</th>\n",
       "      <td>ff8b7170-ce3a</td>\n",
       "      <td>0</td>\n",
       "      <td>0</td>\n",
       "      <td>0</td>\n",
       "      <td>0</td>\n",
       "      <td>0</td>\n",
       "      <td>0</td>\n",
       "      <td>0</td>\n",
       "      <td>0</td>\n",
       "      <td>0</td>\n",
       "      <td>0</td>\n",
       "      <td>0</td>\n",
       "      <td>0</td>\n",
       "      <td>0</td>\n",
       "      <td>0</td>\n",
       "      <td>0</td>\n",
       "      <td>0</td>\n",
       "      <td>0</td>\n",
       "      <td>0</td>\n",
       "      <td>0</td>\n",
       "      <td>0</td>\n",
       "      <td>0</td>\n",
       "      <td>0</td>\n",
       "      <td>0</td>\n",
       "      <td>0</td>\n",
       "    </tr>\n",
       "    <tr>\n",
       "      <th>20126</th>\n",
       "      <td>ff8b7170-ce3a</td>\n",
       "      <td>50000</td>\n",
       "      <td>2</td>\n",
       "      <td>3</td>\n",
       "      <td>1</td>\n",
       "      <td>48</td>\n",
       "      <td>-1</td>\n",
       "      <td>-1</td>\n",
       "      <td>2</td>\n",
       "      <td>-1</td>\n",
       "      <td>-1</td>\n",
       "      <td>0</td>\n",
       "      <td>2896</td>\n",
       "      <td>1360</td>\n",
       "      <td>812</td>\n",
       "      <td>4012</td>\n",
       "      <td>28672</td>\n",
       "      <td>28875</td>\n",
       "      <td>1500</td>\n",
       "      <td>500</td>\n",
       "      <td>4100</td>\n",
       "      <td>28800</td>\n",
       "      <td>1011</td>\n",
       "      <td>1041</td>\n",
       "      <td>0</td>\n",
       "    </tr>\n",
       "  </tbody>\n",
       "</table>\n",
       "</div>"
      ],
      "text/plain": [
       "                  ID  LIMIT_BAL  SEX  EDUCATION  MARRIAGE  AGE          PAY_1  \\\n",
       "8746   ffb9a143-c375      80000    1          1         2   27              0   \n",
       "8846   ffb9a143-c375          0    0          0         0    0              0   \n",
       "2105   ffa0f012-3bd7          0    0          0         0    0              0   \n",
       "2005   ffa0f012-3bd7      20000    1          2         2   34  Not available   \n",
       "20226  ff8b7170-ce3a          0    0          0         0    0              0   \n",
       "20126  ff8b7170-ce3a      50000    2          3         1   48             -1   \n",
       "\n",
       "       PAY_2  PAY_3  PAY_4  PAY_5  PAY_6  BILL_AMT1  BILL_AMT2  BILL_AMT3  \\\n",
       "8746       0      0      0      0      0      42653      46609      47306   \n",
       "8846       0      0      0      0      0          0          0          0   \n",
       "2105       0      0      0      0      0          0          0          0   \n",
       "2005      -2     -2     -2     -2     -2       2199       1530        750   \n",
       "20226      0      0      0      0      0          0          0          0   \n",
       "20126     -1      2     -1     -1      0       2896       1360        812   \n",
       "\n",
       "       BILL_AMT4  BILL_AMT5  BILL_AMT6  PAY_AMT1  PAY_AMT2  PAY_AMT3  \\\n",
       "8746       51179      52073      52833      5000      1801      5000   \n",
       "8846           0          0          0         0         0         0   \n",
       "2105           0          0          0         0         0         0   \n",
       "2005        2280       1500        780      1530       750      1140   \n",
       "20226          0          0          0         0         0         0   \n",
       "20126       4012      28672      28875      1500       500      4100   \n",
       "\n",
       "       PAY_AMT4  PAY_AMT5  PAY_AMT6  default payment next month  \n",
       "8746       2035      2100      6200                           0  \n",
       "8846          0         0         0                           0  \n",
       "2105          0         0         0                           0  \n",
       "2005       3000       780         0                           0  \n",
       "20226         0         0         0                           0  \n",
       "20126     28800      1011      1041                           0  "
      ]
     },
     "execution_count": 12,
     "metadata": {},
     "output_type": "execute_result"
    }
   ],
   "source": [
    "duplicados = df[df.duplicated('ID', keep=False)].sort_values(by='ID', ascending=False)\n",
    "\n",
    "duplicados.head(6)"
   ]
  },
  {
   "cell_type": "code",
   "execution_count": 13,
   "id": "bb843cad-006d-4da2-84c1-f41b9dea9481",
   "metadata": {},
   "outputs": [],
   "source": [
    "dupe_ids = list(duplicados[\"ID\"].unique())"
   ]
  },
  {
   "cell_type": "markdown",
   "id": "ebc46a66-1565-4bd4-a0d8-6327d403a3d2",
   "metadata": {},
   "source": [
    "##### Remoção dos ID's repetidos*\n",
    "\n",
    "*_OBS:_* _Ao remover dados antes do treinamento, pode acarretar em vazamento de dados (data leakage). Essa abordagem foi utilizada pelo autor, seguirei dessa forma durante este projeto._"
   ]
  },
  {
   "cell_type": "code",
   "execution_count": 14,
   "id": "292f7b7d-1dbc-48bf-9090-90293cb99eaa",
   "metadata": {},
   "outputs": [],
   "source": [
    "df_zero_mask = df == 0\n",
    "feature_zero_mask = df_zero_mask.iloc[:, 1:].all(axis=1)"
   ]
  },
  {
   "cell_type": "code",
   "execution_count": 15,
   "id": "588ca4b2-855c-414f-a05d-0ca002f2ceae",
   "metadata": {},
   "outputs": [],
   "source": [
    "df_clean = df.loc[~feature_zero_mask].copy()"
   ]
  },
  {
   "cell_type": "code",
   "execution_count": 16,
   "id": "65740f85-63c8-45c7-9f74-61d903723e08",
   "metadata": {},
   "outputs": [
    {
     "data": {
      "text/html": [
       "<div>\n",
       "<style scoped>\n",
       "    .dataframe tbody tr th:only-of-type {\n",
       "        vertical-align: middle;\n",
       "    }\n",
       "\n",
       "    .dataframe tbody tr th {\n",
       "        vertical-align: top;\n",
       "    }\n",
       "\n",
       "    .dataframe thead th {\n",
       "        text-align: right;\n",
       "    }\n",
       "</style>\n",
       "<table border=\"1\" class=\"dataframe\">\n",
       "  <thead>\n",
       "    <tr style=\"text-align: right;\">\n",
       "      <th></th>\n",
       "      <th>ID</th>\n",
       "      <th>LIMIT_BAL</th>\n",
       "      <th>SEX</th>\n",
       "      <th>EDUCATION</th>\n",
       "      <th>MARRIAGE</th>\n",
       "      <th>AGE</th>\n",
       "      <th>PAY_1</th>\n",
       "      <th>PAY_2</th>\n",
       "      <th>PAY_3</th>\n",
       "      <th>PAY_4</th>\n",
       "      <th>PAY_5</th>\n",
       "      <th>PAY_6</th>\n",
       "      <th>BILL_AMT1</th>\n",
       "      <th>BILL_AMT2</th>\n",
       "      <th>BILL_AMT3</th>\n",
       "      <th>BILL_AMT4</th>\n",
       "      <th>BILL_AMT5</th>\n",
       "      <th>BILL_AMT6</th>\n",
       "      <th>PAY_AMT1</th>\n",
       "      <th>PAY_AMT2</th>\n",
       "      <th>PAY_AMT3</th>\n",
       "      <th>PAY_AMT4</th>\n",
       "      <th>PAY_AMT5</th>\n",
       "      <th>PAY_AMT6</th>\n",
       "      <th>default payment next month</th>\n",
       "    </tr>\n",
       "  </thead>\n",
       "  <tbody>\n",
       "  </tbody>\n",
       "</table>\n",
       "</div>"
      ],
      "text/plain": [
       "Empty DataFrame\n",
       "Columns: [ID, LIMIT_BAL, SEX, EDUCATION, MARRIAGE, AGE, PAY_1, PAY_2, PAY_3, PAY_4, PAY_5, PAY_6, BILL_AMT1, BILL_AMT2, BILL_AMT3, BILL_AMT4, BILL_AMT5, BILL_AMT6, PAY_AMT1, PAY_AMT2, PAY_AMT3, PAY_AMT4, PAY_AMT5, PAY_AMT6, default payment next month]\n",
       "Index: []"
      ]
     },
     "execution_count": 16,
     "metadata": {},
     "output_type": "execute_result"
    }
   ],
   "source": [
    "df_clean[df_clean.duplicated('ID', keep=False)]"
   ]
  },
  {
   "cell_type": "markdown",
   "id": "4c32ea33-8589-4dec-bad5-4a802b3d9592",
   "metadata": {},
   "source": [
    "Id's duplicados foram removidos."
   ]
  },
  {
   "cell_type": "markdown",
   "id": "262a26ea-e0e9-46d9-a2c8-e2a82652cb2a",
   "metadata": {},
   "source": [
    "##### Cleaning the Data"
   ]
  },
  {
   "cell_type": "markdown",
   "id": "6cad2aa1-e198-4040-8713-fa7e97884b78",
   "metadata": {},
   "source": [
    "###### Tratando o problema da coluna \"PAY_1\". Quais são os dados presentes, eles fazem sentido?"
   ]
  },
  {
   "cell_type": "code",
   "execution_count": 17,
   "id": "a1ab507d-9d02-44d7-891e-05c69c77b4b7",
   "metadata": {},
   "outputs": [
    {
     "data": {
      "text/plain": [
       "\"A record of past payments. Represents the repayment status in September. (-2 = the account started that month with a zero balance, and never used any credit; 0 = At least the minimum payment was made, but the entire balance wasn't paid; -1 = pay duly; 1 = payment delay for one month and so on..)\""
      ]
     },
     "execution_count": 17,
     "metadata": {},
     "output_type": "execute_result"
    }
   ],
   "source": [
    "info_var[\"PAY_1\"]"
   ]
  },
  {
   "cell_type": "code",
   "execution_count": 18,
   "id": "c40dd57b-b994-4c81-94aa-3dd1bc8fb6f9",
   "metadata": {},
   "outputs": [
    {
     "data": {
      "text/plain": [
       "PAY_1\n",
       "0                13087\n",
       "-1                5047\n",
       "1                 3261\n",
       "Not available     3021\n",
       "-2                2476\n",
       "2                 2378\n",
       "3                  292\n",
       "4                   63\n",
       "5                   23\n",
       "8                   17\n",
       "6                   11\n",
       "7                    9\n",
       "Name: count, dtype: int64"
      ]
     },
     "execution_count": 18,
     "metadata": {},
     "output_type": "execute_result"
    }
   ],
   "source": [
    "df_clean[\"PAY_1\"].value_counts()"
   ]
  },
  {
   "cell_type": "markdown",
   "id": "66e863c8-3baa-400c-a25a-c6d6e6108fa1",
   "metadata": {},
   "source": [
    "###### De acordo com o dicionário de dados, valores como **-2**, **0** e **Not avaible** não possuem classificação."
   ]
  },
  {
   "cell_type": "markdown",
   "id": "2aa7aa4d-d49e-4e03-9bdc-904febcaef9f",
   "metadata": {},
   "source": [
    "##### Remoção dos valores não disponíveis*\n",
    "\n",
    "*_OBS:_* _Ao remover dados antes do treinamento, pode acarretar em vazamento de dados (data leakage). Essa abordagem foi utilizada pelo autor, seguirei dessa forma durante este projeto._"
   ]
  },
  {
   "cell_type": "code",
   "execution_count": 19,
   "id": "a19bf2d3-fc53-4bb0-a4b6-7c8731304ba1",
   "metadata": {},
   "outputs": [],
   "source": [
    "valid_pay = df_clean[\"PAY_1\"] != \"Not available\"\n",
    "df_clean_1 = df_clean.loc[valid_pay].copy()"
   ]
  },
  {
   "cell_type": "markdown",
   "id": "0821fbdd-9c2a-459e-b568-32e3b6ef9f8e",
   "metadata": {},
   "source": [
    "##### Com as strings removidas, é possível alterar o tipo da coluna para inteiro."
   ]
  },
  {
   "cell_type": "code",
   "execution_count": 20,
   "id": "a376861a-8034-49f2-bef1-8e7f696654f9",
   "metadata": {},
   "outputs": [
    {
     "data": {
      "text/plain": [
       "dtype('int64')"
      ]
     },
     "execution_count": 20,
     "metadata": {},
     "output_type": "execute_result"
    }
   ],
   "source": [
    "df_clean_1[\"PAY_1\"] = df_clean_1[\"PAY_1\"].astype('int64')\n",
    "\n",
    "df_clean_1[\"PAY_1\"].dtype"
   ]
  },
  {
   "cell_type": "markdown",
   "id": "9a3dbdf5-0fc3-4d69-9380-bd33e6c41a59",
   "metadata": {},
   "source": [
    "##### Exploring the Credit Limit and Demographic Features"
   ]
  },
  {
   "cell_type": "code",
   "execution_count": 21,
   "id": "9df1a6bf-8b37-4e00-9cbb-d6028d9a51b7",
   "metadata": {},
   "outputs": [
    {
     "data": {
      "image/png": "[encoded data removed]",
      "text/plain": [
       "<Figure size 700x300 with 2 Axes>"
      ]
     },
     "metadata": {},
     "output_type": "display_data"
    }
   ],
   "source": [
    "fig, axes = plt.subplots(1, 2, constrained_layout=True, figsize=(7, 3))\n",
    "\n",
    "axes[0].hist(df_clean_1[\"AGE\"], bins=30);\n",
    "axes[0].set_title(\"Distribuição da idade\");\n",
    "axes[0].grid(True);\n",
    "\n",
    "axes[1].hist(df_clean_1[\"LIMIT_BAL\"], bins=30);\n",
    "axes[1].set_title(\"Distribuição de crédito\");\n",
    "axes[1].grid(True);"
   ]
  },
  {
   "cell_type": "code",
   "execution_count": 22,
   "id": "e772e5e7-f920-4f99-b5ad-5f4741411506",
   "metadata": {},
   "outputs": [
    {
     "data": {
      "text/html": [
       "<div>\n",
       "<style scoped>\n",
       "    .dataframe tbody tr th:only-of-type {\n",
       "        vertical-align: middle;\n",
       "    }\n",
       "\n",
       "    .dataframe tbody tr th {\n",
       "        vertical-align: top;\n",
       "    }\n",
       "\n",
       "    .dataframe thead th {\n",
       "        text-align: right;\n",
       "    }\n",
       "</style>\n",
       "<table border=\"1\" class=\"dataframe\">\n",
       "  <thead>\n",
       "    <tr style=\"text-align: right;\">\n",
       "      <th></th>\n",
       "      <th>LIMIT_BAL</th>\n",
       "      <th>AGE</th>\n",
       "    </tr>\n",
       "  </thead>\n",
       "  <tbody>\n",
       "    <tr>\n",
       "      <th>count</th>\n",
       "      <td>26664.000000</td>\n",
       "      <td>26664.000000</td>\n",
       "    </tr>\n",
       "    <tr>\n",
       "      <th>mean</th>\n",
       "      <td>167919.054905</td>\n",
       "      <td>35.505213</td>\n",
       "    </tr>\n",
       "    <tr>\n",
       "      <th>std</th>\n",
       "      <td>129839.453081</td>\n",
       "      <td>9.227442</td>\n",
       "    </tr>\n",
       "    <tr>\n",
       "      <th>min</th>\n",
       "      <td>10000.000000</td>\n",
       "      <td>21.000000</td>\n",
       "    </tr>\n",
       "    <tr>\n",
       "      <th>25%</th>\n",
       "      <td>50000.000000</td>\n",
       "      <td>28.000000</td>\n",
       "    </tr>\n",
       "    <tr>\n",
       "      <th>50%</th>\n",
       "      <td>140000.000000</td>\n",
       "      <td>34.000000</td>\n",
       "    </tr>\n",
       "    <tr>\n",
       "      <th>75%</th>\n",
       "      <td>240000.000000</td>\n",
       "      <td>41.000000</td>\n",
       "    </tr>\n",
       "    <tr>\n",
       "      <th>max</th>\n",
       "      <td>800000.000000</td>\n",
       "      <td>79.000000</td>\n",
       "    </tr>\n",
       "  </tbody>\n",
       "</table>\n",
       "</div>"
      ],
      "text/plain": [
       "           LIMIT_BAL           AGE\n",
       "count   26664.000000  26664.000000\n",
       "mean   167919.054905     35.505213\n",
       "std    129839.453081      9.227442\n",
       "min     10000.000000     21.000000\n",
       "25%     50000.000000     28.000000\n",
       "50%    140000.000000     34.000000\n",
       "75%    240000.000000     41.000000\n",
       "max    800000.000000     79.000000"
      ]
     },
     "execution_count": 22,
     "metadata": {},
     "output_type": "execute_result"
    }
   ],
   "source": [
    "df_clean_1[[\"LIMIT_BAL\", \"AGE\"]].describe()"
   ]
  },
  {
   "cell_type": "code",
   "execution_count": 23,
   "id": "169f0607-1e25-450e-8a2e-63b2d41ff165",
   "metadata": {},
   "outputs": [
    {
     "data": {
      "text/plain": [
       "'Education (1 = graduate school; 2 = university; 3 = high school; 4 = others).'"
      ]
     },
     "execution_count": 23,
     "metadata": {},
     "output_type": "execute_result"
    }
   ],
   "source": [
    "info_var[\"EDUCATION\"]"
   ]
  },
  {
   "cell_type": "code",
   "execution_count": 24,
   "id": "fb8a195e-b8e6-4684-9b7c-864cb231ecd0",
   "metadata": {},
   "outputs": [
    {
     "data": {
      "image/png": "[encoded data removed]",
      "text/plain": [
       "<Figure size 500x300 with 1 Axes>"
      ]
     },
     "metadata": {},
     "output_type": "display_data"
    }
   ],
   "source": [
    "plt.figure(figsize=(5, 3))\n",
    "sns.countplot(data=df_clean_1, x=\"EDUCATION\");"
   ]
  },
  {
   "cell_type": "markdown",
   "id": "48ca15ee-3594-44df-bbd7-050c96987779",
   "metadata": {},
   "source": [
    "##### De acordo com o dicionário de dados, não existem classificações para 0, 5 e 6."
   ]
  },
  {
   "cell_type": "markdown",
   "id": "c18b6edd-67ff-47f2-bde3-27d1d1f8075b",
   "metadata": {},
   "source": [
    "##### Remoção dos valores não disponíveis*\n",
    "\n",
    "*_OBS:_* _Ao remover dados antes do treinamento, pode acarretar em vazamento de dados (data leakage). Essa abordagem foi utilizada pelo autor, seguirei dessa forma durante este projeto._"
   ]
  },
  {
   "cell_type": "code",
   "execution_count": 25,
   "id": "56d01df3-388f-40da-a137-8eb8522ab7b7",
   "metadata": {},
   "outputs": [],
   "source": [
    "def new_values(x):\n",
    "    if x in (0, 5, 6):\n",
    "        return 4\n",
    "    else:\n",
    "        return x\n",
    "        \n",
    "df_clean_1[\"EDUCATION\"] = df_clean_1[\"EDUCATION\"].map(new_values)"
   ]
  },
  {
   "cell_type": "code",
   "execution_count": 26,
   "id": "94de4d7c-267f-4082-96ca-ac9c8236d532",
   "metadata": {},
   "outputs": [
    {
     "data": {
      "image/png": "[encoded data removed]",
      "text/plain": [
       "<Figure size 500x300 with 1 Axes>"
      ]
     },
     "metadata": {},
     "output_type": "display_data"
    }
   ],
   "source": [
    "plt.figure(figsize=(5, 3))\n",
    "sns.countplot(data=df_clean_1, x=\"EDUCATION\");"
   ]
  },
  {
   "cell_type": "code",
   "execution_count": null,
   "id": "c2521276-47fa-475a-8a64-2df4d83b5f03",
   "metadata": {},
   "outputs": [],
   "source": []
  }
 ],
 "metadata": {
  "kernelspec": {
   "display_name": "Python 3 (ipykernel)",
   "language": "python",
   "name": "python3"
  },
  "language_info": {
   "codemirror_mode": {
    "name": "ipython",
    "version": 3
   },
   "file_extension": ".py",
   "mimetype": "text/x-python",
   "name": "python",
   "nbconvert_exporter": "python",
   "pygments_lexer": "ipython3",
   "version": "3.11.2"
  }
 },
 "nbformat": 4,
 "nbformat_minor": 5
}
