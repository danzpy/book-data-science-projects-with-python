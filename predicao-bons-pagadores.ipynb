{
 "cells": [
  {
   "cell_type": "markdown",
   "id": "cbd111b3-aa60-4b98-a15a-2feeffe37439",
   "metadata": {},
   "source": [
    "### Imports"
   ]
  },
  {
   "cell_type": "code",
   "execution_count": 1,
   "id": "7f1e5e9d-b5ad-42f6-b0fc-100550b42043",
   "metadata": {},
   "outputs": [],
   "source": [
    "import pandas as pd\n",
    "import matplotlib.pyplot as plt\n",
    "%matplotlib inline\n",
    "import matplotlib as mpl\n",
    "import seaborn as sns\n",
    "import numpy as np"
   ]
  },
  {
   "cell_type": "markdown",
   "id": "4a192df4-c251-495c-9682-eb1234a56740",
   "metadata": {},
   "source": [
    "### Configurações"
   ]
  },
  {
   "cell_type": "code",
   "execution_count": 2,
   "id": "b338b4f7-98aa-414f-8759-d4adde9f93d5",
   "metadata": {},
   "outputs": [],
   "source": [
    "pd.set_option('display.max_columns', 500)"
   ]
  },
  {
   "cell_type": "markdown",
   "id": "5ca92ec1-da8f-4b6a-b49a-84e9079ef963",
   "metadata": {},
   "source": [
    "# Predição de bons pagadores (Crédito)\n",
    "\n",
    "##### **Contexto**:\n",
    "Uma empresa de cartões de crédito disponibilizou uma base de dados, contendo informações demográficas e financiais, de seus clientes. Cada linha representa uma conta bancária.\n",
    "\n",
    "##### **Objetivo**:\n",
    "Criar um modelo capaz de captar a inadimplência dos clientes no próximo mês."
   ]
  },
  {
   "cell_type": "markdown",
   "id": "0eb90192-8382-4696-8abc-87624f445c26",
   "metadata": {},
   "source": [
    "## Iniciando o projeto*\n",
    "\n",
    "*_OBS:_* _Uma boa prática ao se iniciar um projeto em dados, é separar o dataset para que não ocorra vazamento de dados (data leakage). Essa abordagem não foi utilizada pelo autor. Sendo assim, não será realizada a separação nesta etapa do projeto._"
   ]
  },
  {
   "cell_type": "markdown",
   "id": "104ccd96-e409-4144-8b30-c368c0048661",
   "metadata": {},
   "source": [
    "### Exploração dos dados"
   ]
  },
  {
   "cell_type": "code",
   "execution_count": 3,
   "id": "820ac07e-4ed1-47f1-9aac-922e56efad5c",
   "metadata": {},
   "outputs": [],
   "source": [
    "df = pd.read_excel('data/default_of_credit_card_clients__courseware_version_1_21_19.xls')"
   ]
  },
  {
   "cell_type": "code",
   "execution_count": 4,
   "id": "bf918aaf-54ad-4203-9315-7f930bee2884",
   "metadata": {},
   "outputs": [
    {
     "data": {
      "text/html": [
       "<div>\n",
       "<style scoped>\n",
       "    .dataframe tbody tr th:only-of-type {\n",
       "        vertical-align: middle;\n",
       "    }\n",
       "\n",
       "    .dataframe tbody tr th {\n",
       "        vertical-align: top;\n",
       "    }\n",
       "\n",
       "    .dataframe thead th {\n",
       "        text-align: right;\n",
       "    }\n",
       "</style>\n",
       "<table border=\"1\" class=\"dataframe\">\n",
       "  <thead>\n",
       "    <tr style=\"text-align: right;\">\n",
       "      <th></th>\n",
       "      <th>ID</th>\n",
       "      <th>LIMIT_BAL</th>\n",
       "      <th>SEX</th>\n",
       "      <th>EDUCATION</th>\n",
       "      <th>MARRIAGE</th>\n",
       "      <th>AGE</th>\n",
       "      <th>PAY_1</th>\n",
       "      <th>PAY_2</th>\n",
       "      <th>PAY_3</th>\n",
       "      <th>PAY_4</th>\n",
       "      <th>PAY_5</th>\n",
       "      <th>PAY_6</th>\n",
       "      <th>BILL_AMT1</th>\n",
       "      <th>BILL_AMT2</th>\n",
       "      <th>BILL_AMT3</th>\n",
       "      <th>BILL_AMT4</th>\n",
       "      <th>BILL_AMT5</th>\n",
       "      <th>BILL_AMT6</th>\n",
       "      <th>PAY_AMT1</th>\n",
       "      <th>PAY_AMT2</th>\n",
       "      <th>PAY_AMT3</th>\n",
       "      <th>PAY_AMT4</th>\n",
       "      <th>PAY_AMT5</th>\n",
       "      <th>PAY_AMT6</th>\n",
       "      <th>default payment next month</th>\n",
       "    </tr>\n",
       "  </thead>\n",
       "  <tbody>\n",
       "    <tr>\n",
       "      <th>0</th>\n",
       "      <td>798fc410-45c1</td>\n",
       "      <td>20000</td>\n",
       "      <td>2</td>\n",
       "      <td>2</td>\n",
       "      <td>1</td>\n",
       "      <td>24</td>\n",
       "      <td>2</td>\n",
       "      <td>2</td>\n",
       "      <td>-1</td>\n",
       "      <td>-1</td>\n",
       "      <td>-2</td>\n",
       "      <td>-2</td>\n",
       "      <td>3913</td>\n",
       "      <td>3102</td>\n",
       "      <td>689</td>\n",
       "      <td>0</td>\n",
       "      <td>0</td>\n",
       "      <td>0</td>\n",
       "      <td>0</td>\n",
       "      <td>689</td>\n",
       "      <td>0</td>\n",
       "      <td>0</td>\n",
       "      <td>0</td>\n",
       "      <td>0</td>\n",
       "      <td>1</td>\n",
       "    </tr>\n",
       "    <tr>\n",
       "      <th>1</th>\n",
       "      <td>8a8c8f3b-8eb4</td>\n",
       "      <td>120000</td>\n",
       "      <td>2</td>\n",
       "      <td>2</td>\n",
       "      <td>2</td>\n",
       "      <td>26</td>\n",
       "      <td>-1</td>\n",
       "      <td>2</td>\n",
       "      <td>0</td>\n",
       "      <td>0</td>\n",
       "      <td>0</td>\n",
       "      <td>2</td>\n",
       "      <td>2682</td>\n",
       "      <td>1725</td>\n",
       "      <td>2682</td>\n",
       "      <td>3272</td>\n",
       "      <td>3455</td>\n",
       "      <td>3261</td>\n",
       "      <td>0</td>\n",
       "      <td>1000</td>\n",
       "      <td>1000</td>\n",
       "      <td>1000</td>\n",
       "      <td>0</td>\n",
       "      <td>2000</td>\n",
       "      <td>1</td>\n",
       "    </tr>\n",
       "    <tr>\n",
       "      <th>2</th>\n",
       "      <td>85698822-43f5</td>\n",
       "      <td>90000</td>\n",
       "      <td>2</td>\n",
       "      <td>2</td>\n",
       "      <td>2</td>\n",
       "      <td>34</td>\n",
       "      <td>0</td>\n",
       "      <td>0</td>\n",
       "      <td>0</td>\n",
       "      <td>0</td>\n",
       "      <td>0</td>\n",
       "      <td>0</td>\n",
       "      <td>29239</td>\n",
       "      <td>14027</td>\n",
       "      <td>13559</td>\n",
       "      <td>14331</td>\n",
       "      <td>14948</td>\n",
       "      <td>15549</td>\n",
       "      <td>1518</td>\n",
       "      <td>1500</td>\n",
       "      <td>1000</td>\n",
       "      <td>1000</td>\n",
       "      <td>1000</td>\n",
       "      <td>5000</td>\n",
       "      <td>0</td>\n",
       "    </tr>\n",
       "    <tr>\n",
       "      <th>3</th>\n",
       "      <td>0737c11b-be42</td>\n",
       "      <td>50000</td>\n",
       "      <td>2</td>\n",
       "      <td>2</td>\n",
       "      <td>1</td>\n",
       "      <td>37</td>\n",
       "      <td>0</td>\n",
       "      <td>0</td>\n",
       "      <td>0</td>\n",
       "      <td>0</td>\n",
       "      <td>0</td>\n",
       "      <td>0</td>\n",
       "      <td>46990</td>\n",
       "      <td>48233</td>\n",
       "      <td>49291</td>\n",
       "      <td>28314</td>\n",
       "      <td>28959</td>\n",
       "      <td>29547</td>\n",
       "      <td>2000</td>\n",
       "      <td>2019</td>\n",
       "      <td>1200</td>\n",
       "      <td>1100</td>\n",
       "      <td>1069</td>\n",
       "      <td>1000</td>\n",
       "      <td>0</td>\n",
       "    </tr>\n",
       "    <tr>\n",
       "      <th>4</th>\n",
       "      <td>3b7f77cc-dbc0</td>\n",
       "      <td>50000</td>\n",
       "      <td>1</td>\n",
       "      <td>2</td>\n",
       "      <td>1</td>\n",
       "      <td>57</td>\n",
       "      <td>-1</td>\n",
       "      <td>0</td>\n",
       "      <td>-1</td>\n",
       "      <td>0</td>\n",
       "      <td>0</td>\n",
       "      <td>0</td>\n",
       "      <td>8617</td>\n",
       "      <td>5670</td>\n",
       "      <td>35835</td>\n",
       "      <td>20940</td>\n",
       "      <td>19146</td>\n",
       "      <td>19131</td>\n",
       "      <td>2000</td>\n",
       "      <td>36681</td>\n",
       "      <td>10000</td>\n",
       "      <td>9000</td>\n",
       "      <td>689</td>\n",
       "      <td>679</td>\n",
       "      <td>0</td>\n",
       "    </tr>\n",
       "  </tbody>\n",
       "</table>\n",
       "</div>"
      ],
      "text/plain": [
       "              ID  LIMIT_BAL  SEX  EDUCATION  MARRIAGE  AGE PAY_1  PAY_2  \\\n",
       "0  798fc410-45c1      20000    2          2         1   24     2      2   \n",
       "1  8a8c8f3b-8eb4     120000    2          2         2   26    -1      2   \n",
       "2  85698822-43f5      90000    2          2         2   34     0      0   \n",
       "3  0737c11b-be42      50000    2          2         1   37     0      0   \n",
       "4  3b7f77cc-dbc0      50000    1          2         1   57    -1      0   \n",
       "\n",
       "   PAY_3  PAY_4  PAY_5  PAY_6  BILL_AMT1  BILL_AMT2  BILL_AMT3  BILL_AMT4  \\\n",
       "0     -1     -1     -2     -2       3913       3102        689          0   \n",
       "1      0      0      0      2       2682       1725       2682       3272   \n",
       "2      0      0      0      0      29239      14027      13559      14331   \n",
       "3      0      0      0      0      46990      48233      49291      28314   \n",
       "4     -1      0      0      0       8617       5670      35835      20940   \n",
       "\n",
       "   BILL_AMT5  BILL_AMT6  PAY_AMT1  PAY_AMT2  PAY_AMT3  PAY_AMT4  PAY_AMT5  \\\n",
       "0          0          0         0       689         0         0         0   \n",
       "1       3455       3261         0      1000      1000      1000         0   \n",
       "2      14948      15549      1518      1500      1000      1000      1000   \n",
       "3      28959      29547      2000      2019      1200      1100      1069   \n",
       "4      19146      19131      2000     36681     10000      9000       689   \n",
       "\n",
       "   PAY_AMT6  default payment next month  \n",
       "0         0                           1  \n",
       "1      2000                           1  \n",
       "2      5000                           0  \n",
       "3      1000                           0  \n",
       "4       679                           0  "
      ]
     },
     "execution_count": 4,
     "metadata": {},
     "output_type": "execute_result"
    }
   ],
   "source": [
    "df.head(5)"
   ]
  },
  {
   "cell_type": "code",
   "execution_count": 5,
   "id": "dacc2c1f-b97c-41f7-acca-36eef2514f5e",
   "metadata": {},
   "outputs": [
    {
     "name": "stdout",
     "output_type": "stream",
     "text": [
      "<class 'pandas.core.frame.DataFrame'>\n",
      "RangeIndex: 30000 entries, 0 to 29999\n",
      "Data columns (total 25 columns):\n",
      " #   Column                      Non-Null Count  Dtype \n",
      "---  ------                      --------------  ----- \n",
      " 0   ID                          30000 non-null  object\n",
      " 1   LIMIT_BAL                   30000 non-null  int64 \n",
      " 2   SEX                         30000 non-null  int64 \n",
      " 3   EDUCATION                   30000 non-null  int64 \n",
      " 4   MARRIAGE                    30000 non-null  int64 \n",
      " 5   AGE                         30000 non-null  int64 \n",
      " 6   PAY_1                       30000 non-null  object\n",
      " 7   PAY_2                       30000 non-null  int64 \n",
      " 8   PAY_3                       30000 non-null  int64 \n",
      " 9   PAY_4                       30000 non-null  int64 \n",
      " 10  PAY_5                       30000 non-null  int64 \n",
      " 11  PAY_6                       30000 non-null  int64 \n",
      " 12  BILL_AMT1                   30000 non-null  int64 \n",
      " 13  BILL_AMT2                   30000 non-null  int64 \n",
      " 14  BILL_AMT3                   30000 non-null  int64 \n",
      " 15  BILL_AMT4                   30000 non-null  int64 \n",
      " 16  BILL_AMT5                   30000 non-null  int64 \n",
      " 17  BILL_AMT6                   30000 non-null  int64 \n",
      " 18  PAY_AMT1                    30000 non-null  int64 \n",
      " 19  PAY_AMT2                    30000 non-null  int64 \n",
      " 20  PAY_AMT3                    30000 non-null  int64 \n",
      " 21  PAY_AMT4                    30000 non-null  int64 \n",
      " 22  PAY_AMT5                    30000 non-null  int64 \n",
      " 23  PAY_AMT6                    30000 non-null  int64 \n",
      " 24  default payment next month  30000 non-null  int64 \n",
      "dtypes: int64(23), object(2)\n",
      "memory usage: 5.7+ MB\n"
     ]
    }
   ],
   "source": [
    "df.info()"
   ]
  },
  {
   "cell_type": "markdown",
   "id": "b053a9d4-7926-4f11-a3b1-b055535b20d4",
   "metadata": {},
   "source": [
    "##### 1. How many columns are there in the data?\n",
    "##### 2. How many rows (samples)?"
   ]
  },
  {
   "cell_type": "code",
   "execution_count": 6,
   "id": "b835d21d-c8a4-4653-a24b-e8066b50e2d6",
   "metadata": {},
   "outputs": [
    {
     "name": "stdout",
     "output_type": "stream",
     "text": [
      "Esse conjunto de dados possui 30000 observações e 25 variáveis. Sendo elas:\n",
      "\n",
      "ID, LIMIT_BAL, SEX, EDUCATION, MARRIAGE, AGE, PAY_1, PAY_2, PAY_3, PAY_4, PAY_5, PAY_6, BILL_AMT1, BILL_AMT2, BILL_AMT3, BILL_AMT4, BILL_AMT5, BILL_AMT6, PAY_AMT1, PAY_AMT2, PAY_AMT3, PAY_AMT4, PAY_AMT5, PAY_AMT6, default payment next month, \n"
     ]
    }
   ],
   "source": [
    "colunas = ''\n",
    "\n",
    "for coluna in df.columns:\n",
    "    colunas += coluna + ', '\n",
    "    \n",
    "print(f'Esse conjunto de dados possui {df.shape[0]} observações e {df.shape[1]} variáveis. Sendo elas:\\n\\n{colunas}')"
   ]
  },
  {
   "cell_type": "markdown",
   "id": "206a205e-2e84-4045-b54d-cc3bfbd02957",
   "metadata": {},
   "source": [
    "##### 3. What kind of features are there? Which are categorical and which are numerical?"
   ]
  },
  {
   "cell_type": "code",
   "execution_count": 7,
   "id": "b288809f-ce83-42d3-929b-0b0e70973f02",
   "metadata": {},
   "outputs": [
    {
     "name": "stdout",
     "output_type": "stream",
     "text": [
      "Das colunas presentes, 23 são numéricas e 2 são categóricas\n"
     ]
    }
   ],
   "source": [
    "colunas_numericas = [column for column in df.columns if df[column].dtype == 'int64']\n",
    "colunas_categoricas = [column for column in df.columns if df[column].dtype == 'object']\n",
    "\n",
    "print(f'Das colunas presentes, {len(colunas_numericas)} são numéricas e {len(colunas_categoricas)} são categóricas')"
   ]
  },
  {
   "cell_type": "markdown",
   "id": "5e414734-879b-45a8-ab1f-1f06c544ca99",
   "metadata": {},
   "source": [
    "##### 4. What does the data look like in these features?"
   ]
  },
  {
   "cell_type": "markdown",
   "id": "cd169bb8-db30-4388-8970-b9c48c16d2ae",
   "metadata": {},
   "source": [
    "##### Podemos encontrar um pequeno problema. A coluna \"**PAY_1**\" está sendo classificada como categórica, porém, seus dados são numéricos."
   ]
  },
  {
   "cell_type": "code",
   "execution_count": 8,
   "id": "b0a85a93-d6a6-4630-b442-e6fa2b9c9b53",
   "metadata": {},
   "outputs": [
    {
     "data": {
      "text/html": [
       "<div>\n",
       "<style scoped>\n",
       "    .dataframe tbody tr th:only-of-type {\n",
       "        vertical-align: middle;\n",
       "    }\n",
       "\n",
       "    .dataframe tbody tr th {\n",
       "        vertical-align: top;\n",
       "    }\n",
       "\n",
       "    .dataframe thead th {\n",
       "        text-align: right;\n",
       "    }\n",
       "</style>\n",
       "<table border=\"1\" class=\"dataframe\">\n",
       "  <thead>\n",
       "    <tr style=\"text-align: right;\">\n",
       "      <th></th>\n",
       "      <th>ID</th>\n",
       "      <th>PAY_1</th>\n",
       "    </tr>\n",
       "  </thead>\n",
       "  <tbody>\n",
       "    <tr>\n",
       "      <th>0</th>\n",
       "      <td>798fc410-45c1</td>\n",
       "      <td>2</td>\n",
       "    </tr>\n",
       "    <tr>\n",
       "      <th>1</th>\n",
       "      <td>8a8c8f3b-8eb4</td>\n",
       "      <td>-1</td>\n",
       "    </tr>\n",
       "    <tr>\n",
       "      <th>2</th>\n",
       "      <td>85698822-43f5</td>\n",
       "      <td>0</td>\n",
       "    </tr>\n",
       "    <tr>\n",
       "      <th>3</th>\n",
       "      <td>0737c11b-be42</td>\n",
       "      <td>0</td>\n",
       "    </tr>\n",
       "    <tr>\n",
       "      <th>4</th>\n",
       "      <td>3b7f77cc-dbc0</td>\n",
       "      <td>-1</td>\n",
       "    </tr>\n",
       "  </tbody>\n",
       "</table>\n",
       "</div>"
      ],
      "text/plain": [
       "              ID PAY_1\n",
       "0  798fc410-45c1     2\n",
       "1  8a8c8f3b-8eb4    -1\n",
       "2  85698822-43f5     0\n",
       "3  0737c11b-be42     0\n",
       "4  3b7f77cc-dbc0    -1"
      ]
     },
     "execution_count": 8,
     "metadata": {},
     "output_type": "execute_result"
    }
   ],
   "source": [
    "df[colunas_categoricas].head()"
   ]
  },
  {
   "cell_type": "markdown",
   "id": "2b20ee8d-5abe-419f-af4c-4d2ba475dec8",
   "metadata": {},
   "source": [
    "##### Dicionário criado para facilitar a identificação das variáveis durante o projeto."
   ]
  },
  {
   "cell_type": "code",
   "execution_count": 9,
   "id": "28336ce4-f57c-446e-b7c1-8b63f5dce5b3",
   "metadata": {},
   "outputs": [],
   "source": [
    "info_var = {\n",
    "    \"LIMIT_BAL\": \"Amount of the credit provided (in New Taiwanese (NT) dollar) including individual consumer credit and the family (supplementary) credit.\",\n",
    "    \"SEX\": \"Gender (1 = male; 2 = female).\",\n",
    "    \"EDUCATION\": \"Education (1 = graduate school; 2 = university; 3 = high school; 4 = others).\",\n",
    "    \"MARRIAGE\": \"Marital status (1 = married; 2 = single; 3 = others).\",\n",
    "    \"AGE\": \"Age (year).\",\n",
    "    \"PAY_1\": \"A record of past payments. Represents the repayment status in September. (-2 = the account started that month with a zero balance, and never used any credit; 0 = At least the minimum payment was made, but the entire balance wasn't paid; -1 = pay duly; 1 = payment delay for one month and so on..)\",\n",
    "    \"PAY_2\": \"A record of past payments. Represents the repayment status in August. (-2 = the account started that month with a zero balance, and never used any credit; 0 = At least the minimum payment was made, but the entire balance wasn't paid; -1 = pay duly; 1 = payment delay for one month and so on..)\",\n",
    "    \"PAY_3\": \"A record of past payments. Represents the repayment status in July. (-2 = the account started that month with a zero balance, and never used any credit; 0 = At least the minimum payment was made, but the entire balance wasn't paid; -1 = pay duly; 1 = payment delay for one month and so on..)\",\n",
    "    \"PAY_4\": \"A record of past payments. Represents the repayment status in June. (-2 = the account started that month with a zero balance, and never used any credit; 0 = At least the minimum payment was made, but the entire balance wasn't paid; -1 = pay duly; 1 = payment delay for one month and so on..)\",\n",
    "    \"PAY_5\": \"A record of past payments. Represents the repayment status in May. (-2 = the account started that month with a zero balance, and never used any credit; 0 = At least the minimum payment was made, but the entire balance wasn't paid; -1 = pay duly; 1 = payment delay for one month and so on..)\",\n",
    "    \"PAY_6\": \"A record of past payments. Represents the repayment status in April. (-2 = the account started that month with a zero balance, and never used any credit; 0 = At least the minimum payment was made, but the entire balance wasn't paid; -1 = pay duly; 1 = payment delay for one month and so on..)\",\n",
    "    \"BILL_AMT1\": \"Represents the bill statement (in NT dollar) amount in September\",\n",
    "    \"BILL_AMT2\": \"Represents the bill statement (in NT dollar) amount in August\",\n",
    "    \"BILL_AMT3\": \"Represents the bill statement (in NT dollar) amount in July\",\n",
    "    \"BILL_AMT4\": \"Represents the bill statement (in NT dollar) amount in June\",\n",
    "    \"BILL_AMT5\": \"Represents the bill statement (in NT dollar) amount in May\",\n",
    "    \"BILL_AMT6\": \"Represents the bill statement (in NT dollar) amount in April\",\n",
    "    \"PAY_AMT1\" : \"Amount of previous payment (NT dollar). Represents the amount paid in September\",\n",
    "    \"PAY_AMT2\" : \"Amount of previous payment (NT dollar). Represents the amount paid in August\",\n",
    "    \"PAY_AMT3\" : \"Amount of previous payment (NT dollar). Represents the amount paid in July\",\n",
    "    \"PAY_AMT4\" : \"Amount of previous payment (NT dollar). Represents the amount paid in June\",\n",
    "    \"PAY_AMT5\" : \"Amount of previous payment (NT dollar). Represents the amount paid in May\",\n",
    "    \"PAY_AMT6\" : \"Amount of previous payment (NT dollar). Represents the amount paid in April\"\n",
    "}"
   ]
  },
  {
   "cell_type": "markdown",
   "id": "c90f16c9-0b55-4a8b-9575-4162d0fdefd4",
   "metadata": {},
   "source": [
    "##### Validando se os números de ID's não estão repetidos."
   ]
  },
  {
   "cell_type": "code",
   "execution_count": 10,
   "id": "41969618-4e2d-4c82-a1e0-c8ebe8ce936e",
   "metadata": {},
   "outputs": [
    {
     "data": {
      "text/plain": [
       "29687"
      ]
     },
     "execution_count": 10,
     "metadata": {},
     "output_type": "execute_result"
    }
   ],
   "source": [
    "df[\"ID\"].nunique()"
   ]
  },
  {
   "cell_type": "code",
   "execution_count": 11,
   "id": "1b6b8e68-be8f-4d06-8093-82da98b6a006",
   "metadata": {},
   "outputs": [
    {
     "data": {
      "text/plain": [
       "count\n",
       "1    29374\n",
       "2      313\n",
       "Name: count, dtype: int64"
      ]
     },
     "execution_count": 11,
     "metadata": {},
     "output_type": "execute_result"
    }
   ],
   "source": [
    "df[\"ID\"].value_counts().value_counts()"
   ]
  },
  {
   "cell_type": "markdown",
   "id": "1e05f58b-3202-4524-b00e-fa09a949c3b3",
   "metadata": {},
   "source": [
    "###### Existem 313 casos de ID's repetidos."
   ]
  },
  {
   "cell_type": "code",
   "execution_count": 12,
   "id": "84030b86-7943-4b8d-8338-65a139b21143",
   "metadata": {},
   "outputs": [
    {
     "data": {
      "text/html": [
       "<div>\n",
       "<style scoped>\n",
       "    .dataframe tbody tr th:only-of-type {\n",
       "        vertical-align: middle;\n",
       "    }\n",
       "\n",
       "    .dataframe tbody tr th {\n",
       "        vertical-align: top;\n",
       "    }\n",
       "\n",
       "    .dataframe thead th {\n",
       "        text-align: right;\n",
       "    }\n",
       "</style>\n",
       "<table border=\"1\" class=\"dataframe\">\n",
       "  <thead>\n",
       "    <tr style=\"text-align: right;\">\n",
       "      <th></th>\n",
       "      <th>ID</th>\n",
       "      <th>LIMIT_BAL</th>\n",
       "      <th>SEX</th>\n",
       "      <th>EDUCATION</th>\n",
       "      <th>MARRIAGE</th>\n",
       "      <th>AGE</th>\n",
       "      <th>PAY_1</th>\n",
       "      <th>PAY_2</th>\n",
       "      <th>PAY_3</th>\n",
       "      <th>PAY_4</th>\n",
       "      <th>PAY_5</th>\n",
       "      <th>PAY_6</th>\n",
       "      <th>BILL_AMT1</th>\n",
       "      <th>BILL_AMT2</th>\n",
       "      <th>BILL_AMT3</th>\n",
       "      <th>BILL_AMT4</th>\n",
       "      <th>BILL_AMT5</th>\n",
       "      <th>BILL_AMT6</th>\n",
       "      <th>PAY_AMT1</th>\n",
       "      <th>PAY_AMT2</th>\n",
       "      <th>PAY_AMT3</th>\n",
       "      <th>PAY_AMT4</th>\n",
       "      <th>PAY_AMT5</th>\n",
       "      <th>PAY_AMT6</th>\n",
       "      <th>default payment next month</th>\n",
       "    </tr>\n",
       "  </thead>\n",
       "  <tbody>\n",
       "    <tr>\n",
       "      <th>8746</th>\n",
       "      <td>ffb9a143-c375</td>\n",
       "      <td>80000</td>\n",
       "      <td>1</td>\n",
       "      <td>1</td>\n",
       "      <td>2</td>\n",
       "      <td>27</td>\n",
       "      <td>0</td>\n",
       "      <td>0</td>\n",
       "      <td>0</td>\n",
       "      <td>0</td>\n",
       "      <td>0</td>\n",
       "      <td>0</td>\n",
       "      <td>42653</td>\n",
       "      <td>46609</td>\n",
       "      <td>47306</td>\n",
       "      <td>51179</td>\n",
       "      <td>52073</td>\n",
       "      <td>52833</td>\n",
       "      <td>5000</td>\n",
       "      <td>1801</td>\n",
       "      <td>5000</td>\n",
       "      <td>2035</td>\n",
       "      <td>2100</td>\n",
       "      <td>6200</td>\n",
       "      <td>0</td>\n",
       "    </tr>\n",
       "    <tr>\n",
       "      <th>8846</th>\n",
       "      <td>ffb9a143-c375</td>\n",
       "      <td>0</td>\n",
       "      <td>0</td>\n",
       "      <td>0</td>\n",
       "      <td>0</td>\n",
       "      <td>0</td>\n",
       "      <td>0</td>\n",
       "      <td>0</td>\n",
       "      <td>0</td>\n",
       "      <td>0</td>\n",
       "      <td>0</td>\n",
       "      <td>0</td>\n",
       "      <td>0</td>\n",
       "      <td>0</td>\n",
       "      <td>0</td>\n",
       "      <td>0</td>\n",
       "      <td>0</td>\n",
       "      <td>0</td>\n",
       "      <td>0</td>\n",
       "      <td>0</td>\n",
       "      <td>0</td>\n",
       "      <td>0</td>\n",
       "      <td>0</td>\n",
       "      <td>0</td>\n",
       "      <td>0</td>\n",
       "    </tr>\n",
       "    <tr>\n",
       "      <th>2105</th>\n",
       "      <td>ffa0f012-3bd7</td>\n",
       "      <td>0</td>\n",
       "      <td>0</td>\n",
       "      <td>0</td>\n",
       "      <td>0</td>\n",
       "      <td>0</td>\n",
       "      <td>0</td>\n",
       "      <td>0</td>\n",
       "      <td>0</td>\n",
       "      <td>0</td>\n",
       "      <td>0</td>\n",
       "      <td>0</td>\n",
       "      <td>0</td>\n",
       "      <td>0</td>\n",
       "      <td>0</td>\n",
       "      <td>0</td>\n",
       "      <td>0</td>\n",
       "      <td>0</td>\n",
       "      <td>0</td>\n",
       "      <td>0</td>\n",
       "      <td>0</td>\n",
       "      <td>0</td>\n",
       "      <td>0</td>\n",
       "      <td>0</td>\n",
       "      <td>0</td>\n",
       "    </tr>\n",
       "    <tr>\n",
       "      <th>2005</th>\n",
       "      <td>ffa0f012-3bd7</td>\n",
       "      <td>20000</td>\n",
       "      <td>1</td>\n",
       "      <td>2</td>\n",
       "      <td>2</td>\n",
       "      <td>34</td>\n",
       "      <td>Not available</td>\n",
       "      <td>-2</td>\n",
       "      <td>-2</td>\n",
       "      <td>-2</td>\n",
       "      <td>-2</td>\n",
       "      <td>-2</td>\n",
       "      <td>2199</td>\n",
       "      <td>1530</td>\n",
       "      <td>750</td>\n",
       "      <td>2280</td>\n",
       "      <td>1500</td>\n",
       "      <td>780</td>\n",
       "      <td>1530</td>\n",
       "      <td>750</td>\n",
       "      <td>1140</td>\n",
       "      <td>3000</td>\n",
       "      <td>780</td>\n",
       "      <td>0</td>\n",
       "      <td>0</td>\n",
       "    </tr>\n",
       "    <tr>\n",
       "      <th>20226</th>\n",
       "      <td>ff8b7170-ce3a</td>\n",
       "      <td>0</td>\n",
       "      <td>0</td>\n",
       "      <td>0</td>\n",
       "      <td>0</td>\n",
       "      <td>0</td>\n",
       "      <td>0</td>\n",
       "      <td>0</td>\n",
       "      <td>0</td>\n",
       "      <td>0</td>\n",
       "      <td>0</td>\n",
       "      <td>0</td>\n",
       "      <td>0</td>\n",
       "      <td>0</td>\n",
       "      <td>0</td>\n",
       "      <td>0</td>\n",
       "      <td>0</td>\n",
       "      <td>0</td>\n",
       "      <td>0</td>\n",
       "      <td>0</td>\n",
       "      <td>0</td>\n",
       "      <td>0</td>\n",
       "      <td>0</td>\n",
       "      <td>0</td>\n",
       "      <td>0</td>\n",
       "    </tr>\n",
       "    <tr>\n",
       "      <th>20126</th>\n",
       "      <td>ff8b7170-ce3a</td>\n",
       "      <td>50000</td>\n",
       "      <td>2</td>\n",
       "      <td>3</td>\n",
       "      <td>1</td>\n",
       "      <td>48</td>\n",
       "      <td>-1</td>\n",
       "      <td>-1</td>\n",
       "      <td>2</td>\n",
       "      <td>-1</td>\n",
       "      <td>-1</td>\n",
       "      <td>0</td>\n",
       "      <td>2896</td>\n",
       "      <td>1360</td>\n",
       "      <td>812</td>\n",
       "      <td>4012</td>\n",
       "      <td>28672</td>\n",
       "      <td>28875</td>\n",
       "      <td>1500</td>\n",
       "      <td>500</td>\n",
       "      <td>4100</td>\n",
       "      <td>28800</td>\n",
       "      <td>1011</td>\n",
       "      <td>1041</td>\n",
       "      <td>0</td>\n",
       "    </tr>\n",
       "  </tbody>\n",
       "</table>\n",
       "</div>"
      ],
      "text/plain": [
       "                  ID  LIMIT_BAL  SEX  EDUCATION  MARRIAGE  AGE          PAY_1  \\\n",
       "8746   ffb9a143-c375      80000    1          1         2   27              0   \n",
       "8846   ffb9a143-c375          0    0          0         0    0              0   \n",
       "2105   ffa0f012-3bd7          0    0          0         0    0              0   \n",
       "2005   ffa0f012-3bd7      20000    1          2         2   34  Not available   \n",
       "20226  ff8b7170-ce3a          0    0          0         0    0              0   \n",
       "20126  ff8b7170-ce3a      50000    2          3         1   48             -1   \n",
       "\n",
       "       PAY_2  PAY_3  PAY_4  PAY_5  PAY_6  BILL_AMT1  BILL_AMT2  BILL_AMT3  \\\n",
       "8746       0      0      0      0      0      42653      46609      47306   \n",
       "8846       0      0      0      0      0          0          0          0   \n",
       "2105       0      0      0      0      0          0          0          0   \n",
       "2005      -2     -2     -2     -2     -2       2199       1530        750   \n",
       "20226      0      0      0      0      0          0          0          0   \n",
       "20126     -1      2     -1     -1      0       2896       1360        812   \n",
       "\n",
       "       BILL_AMT4  BILL_AMT5  BILL_AMT6  PAY_AMT1  PAY_AMT2  PAY_AMT3  \\\n",
       "8746       51179      52073      52833      5000      1801      5000   \n",
       "8846           0          0          0         0         0         0   \n",
       "2105           0          0          0         0         0         0   \n",
       "2005        2280       1500        780      1530       750      1140   \n",
       "20226          0          0          0         0         0         0   \n",
       "20126       4012      28672      28875      1500       500      4100   \n",
       "\n",
       "       PAY_AMT4  PAY_AMT5  PAY_AMT6  default payment next month  \n",
       "8746       2035      2100      6200                           0  \n",
       "8846          0         0         0                           0  \n",
       "2105          0         0         0                           0  \n",
       "2005       3000       780         0                           0  \n",
       "20226         0         0         0                           0  \n",
       "20126     28800      1011      1041                           0  "
      ]
     },
     "execution_count": 12,
     "metadata": {},
     "output_type": "execute_result"
    }
   ],
   "source": [
    "duplicados = df[df.duplicated('ID', keep=False)].sort_values(by='ID', ascending=False)\n",
    "\n",
    "duplicados.head(6)"
   ]
  },
  {
   "cell_type": "code",
   "execution_count": 13,
   "id": "bb843cad-006d-4da2-84c1-f41b9dea9481",
   "metadata": {},
   "outputs": [],
   "source": [
    "dupe_ids = list(duplicados[\"ID\"].unique())"
   ]
  },
  {
   "cell_type": "markdown",
   "id": "ebc46a66-1565-4bd4-a0d8-6327d403a3d2",
   "metadata": {},
   "source": [
    "##### Remoção dos ID's repetidos*\n",
    "\n",
    "*_OBS:_* _Ao remover dados antes do treinamento, pode acarretar em vazamento de dados (data leakage). Essa abordagem foi utilizada pelo autor, seguirei dessa forma durante este projeto._"
   ]
  },
  {
   "cell_type": "code",
   "execution_count": 14,
   "id": "292f7b7d-1dbc-48bf-9090-90293cb99eaa",
   "metadata": {},
   "outputs": [],
   "source": [
    "df_zero_mask = df == 0\n",
    "feature_zero_mask = df_zero_mask.iloc[:, 1:].all(axis=1)"
   ]
  },
  {
   "cell_type": "code",
   "execution_count": 15,
   "id": "588ca4b2-855c-414f-a05d-0ca002f2ceae",
   "metadata": {},
   "outputs": [],
   "source": [
    "df_clean = df.loc[~feature_zero_mask].copy()"
   ]
  },
  {
   "cell_type": "code",
   "execution_count": 16,
   "id": "65740f85-63c8-45c7-9f74-61d903723e08",
   "metadata": {},
   "outputs": [
    {
     "data": {
      "text/html": [
       "<div>\n",
       "<style scoped>\n",
       "    .dataframe tbody tr th:only-of-type {\n",
       "        vertical-align: middle;\n",
       "    }\n",
       "\n",
       "    .dataframe tbody tr th {\n",
       "        vertical-align: top;\n",
       "    }\n",
       "\n",
       "    .dataframe thead th {\n",
       "        text-align: right;\n",
       "    }\n",
       "</style>\n",
       "<table border=\"1\" class=\"dataframe\">\n",
       "  <thead>\n",
       "    <tr style=\"text-align: right;\">\n",
       "      <th></th>\n",
       "      <th>ID</th>\n",
       "      <th>LIMIT_BAL</th>\n",
       "      <th>SEX</th>\n",
       "      <th>EDUCATION</th>\n",
       "      <th>MARRIAGE</th>\n",
       "      <th>AGE</th>\n",
       "      <th>PAY_1</th>\n",
       "      <th>PAY_2</th>\n",
       "      <th>PAY_3</th>\n",
       "      <th>PAY_4</th>\n",
       "      <th>PAY_5</th>\n",
       "      <th>PAY_6</th>\n",
       "      <th>BILL_AMT1</th>\n",
       "      <th>BILL_AMT2</th>\n",
       "      <th>BILL_AMT3</th>\n",
       "      <th>BILL_AMT4</th>\n",
       "      <th>BILL_AMT5</th>\n",
       "      <th>BILL_AMT6</th>\n",
       "      <th>PAY_AMT1</th>\n",
       "      <th>PAY_AMT2</th>\n",
       "      <th>PAY_AMT3</th>\n",
       "      <th>PAY_AMT4</th>\n",
       "      <th>PAY_AMT5</th>\n",
       "      <th>PAY_AMT6</th>\n",
       "      <th>default payment next month</th>\n",
       "    </tr>\n",
       "  </thead>\n",
       "  <tbody>\n",
       "  </tbody>\n",
       "</table>\n",
       "</div>"
      ],
      "text/plain": [
       "Empty DataFrame\n",
       "Columns: [ID, LIMIT_BAL, SEX, EDUCATION, MARRIAGE, AGE, PAY_1, PAY_2, PAY_3, PAY_4, PAY_5, PAY_6, BILL_AMT1, BILL_AMT2, BILL_AMT3, BILL_AMT4, BILL_AMT5, BILL_AMT6, PAY_AMT1, PAY_AMT2, PAY_AMT3, PAY_AMT4, PAY_AMT5, PAY_AMT6, default payment next month]\n",
       "Index: []"
      ]
     },
     "execution_count": 16,
     "metadata": {},
     "output_type": "execute_result"
    }
   ],
   "source": [
    "df_clean[df_clean.duplicated('ID', keep=False)]"
   ]
  },
  {
   "cell_type": "markdown",
   "id": "4c32ea33-8589-4dec-bad5-4a802b3d9592",
   "metadata": {},
   "source": [
    "Id's duplicados foram removidos."
   ]
  },
  {
   "cell_type": "markdown",
   "id": "262a26ea-e0e9-46d9-a2c8-e2a82652cb2a",
   "metadata": {},
   "source": [
    "##### Cleaning the Data"
   ]
  },
  {
   "cell_type": "markdown",
   "id": "6cad2aa1-e198-4040-8713-fa7e97884b78",
   "metadata": {},
   "source": [
    "###### Tratando o problema da coluna \"PAY_1\". Quais são os dados presentes, eles fazem sentido?"
   ]
  },
  {
   "cell_type": "code",
   "execution_count": 17,
   "id": "a1ab507d-9d02-44d7-891e-05c69c77b4b7",
   "metadata": {},
   "outputs": [
    {
     "data": {
      "text/plain": [
       "\"A record of past payments. Represents the repayment status in September. (-2 = the account started that month with a zero balance, and never used any credit; 0 = At least the minimum payment was made, but the entire balance wasn't paid; -1 = pay duly; 1 = payment delay for one month and so on..)\""
      ]
     },
     "execution_count": 17,
     "metadata": {},
     "output_type": "execute_result"
    }
   ],
   "source": [
    "info_var[\"PAY_1\"]"
   ]
  },
  {
   "cell_type": "code",
   "execution_count": 18,
   "id": "c40dd57b-b994-4c81-94aa-3dd1bc8fb6f9",
   "metadata": {},
   "outputs": [
    {
     "data": {
      "text/plain": [
       "PAY_1\n",
       "0                13087\n",
       "-1                5047\n",
       "1                 3261\n",
       "Not available     3021\n",
       "-2                2476\n",
       "2                 2378\n",
       "3                  292\n",
       "4                   63\n",
       "5                   23\n",
       "8                   17\n",
       "6                   11\n",
       "7                    9\n",
       "Name: count, dtype: int64"
      ]
     },
     "execution_count": 18,
     "metadata": {},
     "output_type": "execute_result"
    }
   ],
   "source": [
    "df_clean[\"PAY_1\"].value_counts()"
   ]
  },
  {
   "cell_type": "markdown",
   "id": "66e863c8-3baa-400c-a25a-c6d6e6108fa1",
   "metadata": {},
   "source": [
    "###### De acordo com o dicionário de dados, valores como **-2**, **0** e **Not avaible** não possuem classificação."
   ]
  },
  {
   "cell_type": "markdown",
   "id": "2aa7aa4d-d49e-4e03-9bdc-904febcaef9f",
   "metadata": {},
   "source": [
    "##### Remoção dos valores não disponíveis*\n",
    "\n",
    "*_OBS:_* _Ao remover dados antes do treinamento, pode acarretar em vazamento de dados (data leakage). Essa abordagem foi utilizada pelo autor, seguirei dessa forma durante este projeto._"
   ]
  },
  {
   "cell_type": "code",
   "execution_count": 19,
   "id": "a19bf2d3-fc53-4bb0-a4b6-7c8731304ba1",
   "metadata": {},
   "outputs": [],
   "source": [
    "valid_pay = df_clean[\"PAY_1\"] != \"Not available\"\n",
    "df_clean_1 = df_clean.loc[valid_pay].copy()"
   ]
  },
  {
   "cell_type": "markdown",
   "id": "0821fbdd-9c2a-459e-b568-32e3b6ef9f8e",
   "metadata": {},
   "source": [
    "##### Com as strings removidas, é possível alterar o tipo da coluna para inteiro."
   ]
  },
  {
   "cell_type": "code",
   "execution_count": 20,
   "id": "a376861a-8034-49f2-bef1-8e7f696654f9",
   "metadata": {},
   "outputs": [
    {
     "data": {
      "text/plain": [
       "dtype('int64')"
      ]
     },
     "execution_count": 20,
     "metadata": {},
     "output_type": "execute_result"
    }
   ],
   "source": [
    "df_clean_1[\"PAY_1\"] = df_clean_1[\"PAY_1\"].astype('int64')\n",
    "\n",
    "df_clean_1[\"PAY_1\"].dtype"
   ]
  },
  {
   "cell_type": "markdown",
   "id": "9a3dbdf5-0fc3-4d69-9380-bd33e6c41a59",
   "metadata": {},
   "source": [
    "##### Exploring the Credit Limit and Demographic Features"
   ]
  },
  {
   "cell_type": "code",
   "execution_count": 21,
   "id": "9df1a6bf-8b37-4e00-9cbb-d6028d9a51b7",
   "metadata": {},
   "outputs": [
    {
     "data": {
      "image/png": "[encoded data removed]",
      "text/plain": [
       "<Figure size 700x300 with 2 Axes>"
      ]
     },
     "metadata": {},
     "output_type": "display_data"
    }
   ],
   "source": [
    "fig, axes = plt.subplots(1, 2, constrained_layout=True, figsize=(7, 3))\n",
    "\n",
    "axes[0].hist(df_clean_1[\"AGE\"], bins=30);\n",
    "axes[0].set_title(\"Distribuição da idade\");\n",
    "axes[0].grid(True);\n",
    "\n",
    "axes[1].hist(df_clean_1[\"LIMIT_BAL\"], bins=30);\n",
    "axes[1].set_title(\"Distribuição de crédito\");\n",
    "axes[1].grid(True);"
   ]
  },
  {
   "cell_type": "code",
   "execution_count": 22,
   "id": "e772e5e7-f920-4f99-b5ad-5f4741411506",
   "metadata": {},
   "outputs": [
    {
     "data": {
      "text/html": [
       "<div>\n",
       "<style scoped>\n",
       "    .dataframe tbody tr th:only-of-type {\n",
       "        vertical-align: middle;\n",
       "    }\n",
       "\n",
       "    .dataframe tbody tr th {\n",
       "        vertical-align: top;\n",
       "    }\n",
       "\n",
       "    .dataframe thead th {\n",
       "        text-align: right;\n",
       "    }\n",
       "</style>\n",
       "<table border=\"1\" class=\"dataframe\">\n",
       "  <thead>\n",
       "    <tr style=\"text-align: right;\">\n",
       "      <th></th>\n",
       "      <th>LIMIT_BAL</th>\n",
       "      <th>AGE</th>\n",
       "    </tr>\n",
       "  </thead>\n",
       "  <tbody>\n",
       "    <tr>\n",
       "      <th>count</th>\n",
       "      <td>26664.000000</td>\n",
       "      <td>26664.000000</td>\n",
       "    </tr>\n",
       "    <tr>\n",
       "      <th>mean</th>\n",
       "      <td>167919.054905</td>\n",
       "      <td>35.505213</td>\n",
       "    </tr>\n",
       "    <tr>\n",
       "      <th>std</th>\n",
       "      <td>129839.453081</td>\n",
       "      <td>9.227442</td>\n",
       "    </tr>\n",
       "    <tr>\n",
       "      <th>min</th>\n",
       "      <td>10000.000000</td>\n",
       "      <td>21.000000</td>\n",
       "    </tr>\n",
       "    <tr>\n",
       "      <th>25%</th>\n",
       "      <td>50000.000000</td>\n",
       "      <td>28.000000</td>\n",
       "    </tr>\n",
       "    <tr>\n",
       "      <th>50%</th>\n",
       "      <td>140000.000000</td>\n",
       "      <td>34.000000</td>\n",
       "    </tr>\n",
       "    <tr>\n",
       "      <th>75%</th>\n",
       "      <td>240000.000000</td>\n",
       "      <td>41.000000</td>\n",
       "    </tr>\n",
       "    <tr>\n",
       "      <th>max</th>\n",
       "      <td>800000.000000</td>\n",
       "      <td>79.000000</td>\n",
       "    </tr>\n",
       "  </tbody>\n",
       "</table>\n",
       "</div>"
      ],
      "text/plain": [
       "           LIMIT_BAL           AGE\n",
       "count   26664.000000  26664.000000\n",
       "mean   167919.054905     35.505213\n",
       "std    129839.453081      9.227442\n",
       "min     10000.000000     21.000000\n",
       "25%     50000.000000     28.000000\n",
       "50%    140000.000000     34.000000\n",
       "75%    240000.000000     41.000000\n",
       "max    800000.000000     79.000000"
      ]
     },
     "execution_count": 22,
     "metadata": {},
     "output_type": "execute_result"
    }
   ],
   "source": [
    "df_clean_1[[\"LIMIT_BAL\", \"AGE\"]].describe()"
   ]
  },
  {
   "cell_type": "code",
   "execution_count": 23,
   "id": "169f0607-1e25-450e-8a2e-63b2d41ff165",
   "metadata": {},
   "outputs": [
    {
     "data": {
      "text/plain": [
       "'Education (1 = graduate school; 2 = university; 3 = high school; 4 = others).'"
      ]
     },
     "execution_count": 23,
     "metadata": {},
     "output_type": "execute_result"
    }
   ],
   "source": [
    "info_var[\"EDUCATION\"]"
   ]
  },
  {
   "cell_type": "code",
   "execution_count": 24,
   "id": "fb8a195e-b8e6-4684-9b7c-864cb231ecd0",
   "metadata": {},
   "outputs": [
    {
     "data": {
      "image/png": "[encoded data removed]",
      "text/plain": [
       "<Figure size 500x300 with 1 Axes>"
      ]
     },
     "metadata": {},
     "output_type": "display_data"
    }
   ],
   "source": [
    "plt.figure(figsize=(5, 3))\n",
    "sns.countplot(data=df_clean_1, x=\"EDUCATION\");"
   ]
  },
  {
   "cell_type": "markdown",
   "id": "48ca15ee-3594-44df-bbd7-050c96987779",
   "metadata": {
    "jp-MarkdownHeadingCollapsed": true
   },
   "source": [
    "##### De acordo com o dicionário de dados, não existem classificações para 0, 5 e 6."
   ]
  },
  {
   "cell_type": "markdown",
   "id": "c18b6edd-67ff-47f2-bde3-27d1d1f8075b",
   "metadata": {},
   "source": [
    "##### Remoção dos valores não disponíveis*\n",
    "\n",
    "*_OBS:_* _Ao remover dados antes do treinamento, pode acarretar em vazamento de dados (data leakage). Essa abordagem foi utilizada pelo autor, seguirei dessa forma durante este projeto._"
   ]
  },
  {
   "cell_type": "code",
   "execution_count": 25,
   "id": "19e2de21-0d2b-4eba-b720-7487da2933f3",
   "metadata": {},
   "outputs": [],
   "source": [
    "df_clean_1[\"EDUCATION\"] = df_clean_1[\"EDUCATION\"].replace(to_replace=[0, 5, 6], value=4)"
   ]
  },
  {
   "cell_type": "code",
   "execution_count": 26,
   "id": "94de4d7c-267f-4082-96ca-ac9c8236d532",
   "metadata": {},
   "outputs": [
    {
     "data": {
      "image/png": "[encoded data removed]",
      "text/plain": [
       "<Figure size 500x300 with 1 Axes>"
      ]
     },
     "metadata": {},
     "output_type": "display_data"
    }
   ],
   "source": [
    "plt.figure(figsize=(5, 3))\n",
    "sns.countplot(data=df_clean_1, x=\"EDUCATION\");"
   ]
  },
  {
   "cell_type": "code",
   "execution_count": 27,
   "id": "c2521276-47fa-475a-8a64-2df4d83b5f03",
   "metadata": {},
   "outputs": [
    {
     "data": {
      "text/plain": [
       "'Marital status (1 = married; 2 = single; 3 = others).'"
      ]
     },
     "execution_count": 27,
     "metadata": {},
     "output_type": "execute_result"
    }
   ],
   "source": [
    "info_var[\"MARRIAGE\"]"
   ]
  },
  {
   "cell_type": "code",
   "execution_count": 28,
   "id": "5de5318c-8c70-4e79-810d-d225c545ac75",
   "metadata": {},
   "outputs": [
    {
     "data": {
      "text/plain": [
       "MARRIAGE\n",
       "2    14158\n",
       "1    12172\n",
       "3      286\n",
       "0       48\n",
       "Name: count, dtype: int64"
      ]
     },
     "execution_count": 28,
     "metadata": {},
     "output_type": "execute_result"
    }
   ],
   "source": [
    "df_clean_1[\"MARRIAGE\"].value_counts()"
   ]
  },
  {
   "cell_type": "code",
   "execution_count": 29,
   "id": "298ae918-efd4-4fcd-8487-f56062f70de1",
   "metadata": {},
   "outputs": [],
   "source": [
    "df_clean_1[\"EDUCATION\"] = df_clean_1[\"EDUCATION\"].replace(to_replace=[0, 5, 6], value=4)"
   ]
  },
  {
   "cell_type": "code",
   "execution_count": 30,
   "id": "a54872e7-46be-4486-beb8-6ce30accc4f9",
   "metadata": {},
   "outputs": [
    {
     "data": {
      "image/png": "[encoded data removed]",
      "text/plain": [
       "<Figure size 500x300 with 1 Axes>"
      ]
     },
     "metadata": {},
     "output_type": "display_data"
    }
   ],
   "source": [
    "plt.figure(figsize=(5, 3))\n",
    "sns.countplot(data=df_clean_1, x=\"EDUCATION\");"
   ]
  },
  {
   "cell_type": "code",
   "execution_count": 31,
   "id": "e75eb212-6c29-40d3-92b6-504dee38516d",
   "metadata": {},
   "outputs": [
    {
     "data": {
      "text/plain": [
       "MARRIAGE\n",
       "2    14158\n",
       "1    12172\n",
       "3      286\n",
       "0       48\n",
       "Name: count, dtype: int64"
      ]
     },
     "execution_count": 31,
     "metadata": {},
     "output_type": "execute_result"
    }
   ],
   "source": [
    "df_clean_1[\"MARRIAGE\"].value_counts()"
   ]
  },
  {
   "cell_type": "code",
   "execution_count": 32,
   "id": "a1e5d566-3a1b-4695-bd65-5f00a6e0a4ac",
   "metadata": {},
   "outputs": [
    {
     "data": {
      "text/plain": [
       "'Marital status (1 = married; 2 = single; 3 = others).'"
      ]
     },
     "execution_count": 32,
     "metadata": {},
     "output_type": "execute_result"
    }
   ],
   "source": [
    "info_var[\"MARRIAGE\"]"
   ]
  },
  {
   "cell_type": "markdown",
   "id": "62681494-6d27-4af5-b802-2c9d1b045136",
   "metadata": {},
   "source": [
    "##### De acordo com o dicionário de dados, não existem classificações para 0"
   ]
  },
  {
   "cell_type": "code",
   "execution_count": 33,
   "id": "d186b82a-db7b-4843-a7d2-581d070432e5",
   "metadata": {},
   "outputs": [],
   "source": [
    "df_clean_1[\"MARRIAGE\"] = df_clean_1[\"MARRIAGE\"].replace(to_replace=0, value=3)"
   ]
  },
  {
   "cell_type": "code",
   "execution_count": 34,
   "id": "4ad0e615-39da-44e8-8ada-b80a6fe1bbf1",
   "metadata": {},
   "outputs": [
    {
     "data": {
      "image/png": "[encoded data removed]",
      "text/plain": [
       "<Figure size 400x300 with 1 Axes>"
      ]
     },
     "metadata": {},
     "output_type": "display_data"
    }
   ],
   "source": [
    "plt.figure(figsize=(4,3))\n",
    "sns.countplot(data=df_clean_1, x=\"MARRIAGE\");"
   ]
  },
  {
   "cell_type": "markdown",
   "id": "6227922c-54da-4713-90f1-7e552921cffd",
   "metadata": {},
   "source": [
    "##### Deep Dive: Categorical Features"
   ]
  },
  {
   "cell_type": "code",
   "execution_count": 35,
   "id": "02f10c38-f483-4b5e-a1e4-294321c84a5a",
   "metadata": {},
   "outputs": [
    {
     "data": {
      "image/png": "[encoded data removed]",
      "text/plain": [
       "<Figure size 640x480 with 1 Axes>"
      ]
     },
     "metadata": {},
     "output_type": "display_data"
    }
   ],
   "source": [
    "df_clean_1.groupby(\"EDUCATION\").agg({\"default payment next month\":\"mean\"}).plot.bar(legend=False)\n",
    "plt.ylabel('Default rate')\n",
    "plt.xlabel('Education level: ordinal encoding');"
   ]
  },
  {
   "cell_type": "markdown",
   "id": "280c5fe8-08c9-4f95-a7a0-0189182d7a90",
   "metadata": {},
   "source": [
    "###### Quando construímos um modelo de regressão logística uma das coisas que observamos é a linearidade da variável com o log da odds visando ter uma boa determinação dos coeficientes da regressão. Então, por isso nesse caso o autor sugere utilizar ou um modelo que capture as não linearidades como modelos de árvores ou utilizar outro tipo de encoding (OHE)"
   ]
  },
  {
   "cell_type": "code",
   "execution_count": 36,
   "id": "2520d34e-72fb-4d2f-b834-5351cb4dc430",
   "metadata": {},
   "outputs": [],
   "source": [
    "cat_mapping = {1: \"graduate school\",\n",
    "                 2: \"university\",\n",
    "                 3: \"high school\",\n",
    "                 4: \"others\"}\n",
    "\n",
    "df_clean_1[\"EDUCATION_CAT\"] = df_clean_1[\"EDUCATION\"].map(cat_mapping)"
   ]
  },
  {
   "cell_type": "code",
   "execution_count": 37,
   "id": "2c826bbc-aa0a-4924-ab44-21d5b9cd9a47",
   "metadata": {},
   "outputs": [
    {
     "data": {
      "text/html": [
       "<div>\n",
       "<style scoped>\n",
       "    .dataframe tbody tr th:only-of-type {\n",
       "        vertical-align: middle;\n",
       "    }\n",
       "\n",
       "    .dataframe tbody tr th {\n",
       "        vertical-align: top;\n",
       "    }\n",
       "\n",
       "    .dataframe thead th {\n",
       "        text-align: right;\n",
       "    }\n",
       "</style>\n",
       "<table border=\"1\" class=\"dataframe\">\n",
       "  <thead>\n",
       "    <tr style=\"text-align: right;\">\n",
       "      <th></th>\n",
       "      <th>graduate school</th>\n",
       "      <th>high school</th>\n",
       "      <th>others</th>\n",
       "      <th>university</th>\n",
       "    </tr>\n",
       "  </thead>\n",
       "  <tbody>\n",
       "    <tr>\n",
       "      <th>0</th>\n",
       "      <td>0</td>\n",
       "      <td>0</td>\n",
       "      <td>0</td>\n",
       "      <td>1</td>\n",
       "    </tr>\n",
       "    <tr>\n",
       "      <th>1</th>\n",
       "      <td>0</td>\n",
       "      <td>0</td>\n",
       "      <td>0</td>\n",
       "      <td>1</td>\n",
       "    </tr>\n",
       "    <tr>\n",
       "      <th>2</th>\n",
       "      <td>0</td>\n",
       "      <td>0</td>\n",
       "      <td>0</td>\n",
       "      <td>1</td>\n",
       "    </tr>\n",
       "    <tr>\n",
       "      <th>3</th>\n",
       "      <td>0</td>\n",
       "      <td>0</td>\n",
       "      <td>0</td>\n",
       "      <td>1</td>\n",
       "    </tr>\n",
       "    <tr>\n",
       "      <th>4</th>\n",
       "      <td>0</td>\n",
       "      <td>0</td>\n",
       "      <td>0</td>\n",
       "      <td>1</td>\n",
       "    </tr>\n",
       "  </tbody>\n",
       "</table>\n",
       "</div>"
      ],
      "text/plain": [
       "   graduate school  high school  others  university\n",
       "0                0            0       0           1\n",
       "1                0            0       0           1\n",
       "2                0            0       0           1\n",
       "3                0            0       0           1\n",
       "4                0            0       0           1"
      ]
     },
     "execution_count": 37,
     "metadata": {},
     "output_type": "execute_result"
    }
   ],
   "source": [
    "education_ohe = pd.get_dummies(df_clean_1[\"EDUCATION_CAT\"]).astype(int)\n",
    "\n",
    "education_ohe.head()"
   ]
  },
  {
   "cell_type": "code",
   "execution_count": 38,
   "id": "31bbafd3-4c3d-43e2-b033-3c1587568eff",
   "metadata": {},
   "outputs": [],
   "source": [
    "df = pd.concat([df_clean_1, education_ohe], axis=1)\\\n",
    "        .rename(columns={\"default payment next month\": \"TARGET\",\n",
    "                         \"graduate school\": \"EDUC_GRAD_SCHOOL\",\n",
    "                         \"high school\": \"EDUC_HIGH_SCHOOL\",\n",
    "                         \"others\": \"EDUC_OTHERS\",\n",
    "                         \"university\": \"EDUC_UNIVERSITY\"})"
   ]
  },
  {
   "cell_type": "code",
   "execution_count": 39,
   "id": "d56519a0-f3c0-429c-b304-83eafb592d0f",
   "metadata": {},
   "outputs": [
    {
     "data": {
      "text/html": [
       "<div>\n",
       "<style scoped>\n",
       "    .dataframe tbody tr th:only-of-type {\n",
       "        vertical-align: middle;\n",
       "    }\n",
       "\n",
       "    .dataframe tbody tr th {\n",
       "        vertical-align: top;\n",
       "    }\n",
       "\n",
       "    .dataframe thead th {\n",
       "        text-align: right;\n",
       "    }\n",
       "</style>\n",
       "<table border=\"1\" class=\"dataframe\">\n",
       "  <thead>\n",
       "    <tr style=\"text-align: right;\">\n",
       "      <th></th>\n",
       "      <th>ID</th>\n",
       "      <th>LIMIT_BAL</th>\n",
       "      <th>SEX</th>\n",
       "      <th>EDUCATION</th>\n",
       "      <th>MARRIAGE</th>\n",
       "      <th>AGE</th>\n",
       "      <th>PAY_1</th>\n",
       "      <th>PAY_2</th>\n",
       "      <th>PAY_3</th>\n",
       "      <th>PAY_4</th>\n",
       "      <th>PAY_5</th>\n",
       "      <th>PAY_6</th>\n",
       "      <th>BILL_AMT1</th>\n",
       "      <th>BILL_AMT2</th>\n",
       "      <th>BILL_AMT3</th>\n",
       "      <th>BILL_AMT4</th>\n",
       "      <th>BILL_AMT5</th>\n",
       "      <th>BILL_AMT6</th>\n",
       "      <th>PAY_AMT1</th>\n",
       "      <th>PAY_AMT2</th>\n",
       "      <th>PAY_AMT3</th>\n",
       "      <th>PAY_AMT4</th>\n",
       "      <th>PAY_AMT5</th>\n",
       "      <th>PAY_AMT6</th>\n",
       "      <th>TARGET</th>\n",
       "      <th>EDUCATION_CAT</th>\n",
       "      <th>EDUC_GRAD_SCHOOL</th>\n",
       "      <th>EDUC_HIGH_SCHOOL</th>\n",
       "      <th>EDUC_OTHERS</th>\n",
       "      <th>EDUC_UNIVERSITY</th>\n",
       "    </tr>\n",
       "  </thead>\n",
       "  <tbody>\n",
       "    <tr>\n",
       "      <th>0</th>\n",
       "      <td>798fc410-45c1</td>\n",
       "      <td>20000</td>\n",
       "      <td>2</td>\n",
       "      <td>2</td>\n",
       "      <td>1</td>\n",
       "      <td>24</td>\n",
       "      <td>2</td>\n",
       "      <td>2</td>\n",
       "      <td>-1</td>\n",
       "      <td>-1</td>\n",
       "      <td>-2</td>\n",
       "      <td>-2</td>\n",
       "      <td>3913</td>\n",
       "      <td>3102</td>\n",
       "      <td>689</td>\n",
       "      <td>0</td>\n",
       "      <td>0</td>\n",
       "      <td>0</td>\n",
       "      <td>0</td>\n",
       "      <td>689</td>\n",
       "      <td>0</td>\n",
       "      <td>0</td>\n",
       "      <td>0</td>\n",
       "      <td>0</td>\n",
       "      <td>1</td>\n",
       "      <td>university</td>\n",
       "      <td>0</td>\n",
       "      <td>0</td>\n",
       "      <td>0</td>\n",
       "      <td>1</td>\n",
       "    </tr>\n",
       "    <tr>\n",
       "      <th>1</th>\n",
       "      <td>8a8c8f3b-8eb4</td>\n",
       "      <td>120000</td>\n",
       "      <td>2</td>\n",
       "      <td>2</td>\n",
       "      <td>2</td>\n",
       "      <td>26</td>\n",
       "      <td>-1</td>\n",
       "      <td>2</td>\n",
       "      <td>0</td>\n",
       "      <td>0</td>\n",
       "      <td>0</td>\n",
       "      <td>2</td>\n",
       "      <td>2682</td>\n",
       "      <td>1725</td>\n",
       "      <td>2682</td>\n",
       "      <td>3272</td>\n",
       "      <td>3455</td>\n",
       "      <td>3261</td>\n",
       "      <td>0</td>\n",
       "      <td>1000</td>\n",
       "      <td>1000</td>\n",
       "      <td>1000</td>\n",
       "      <td>0</td>\n",
       "      <td>2000</td>\n",
       "      <td>1</td>\n",
       "      <td>university</td>\n",
       "      <td>0</td>\n",
       "      <td>0</td>\n",
       "      <td>0</td>\n",
       "      <td>1</td>\n",
       "    </tr>\n",
       "    <tr>\n",
       "      <th>2</th>\n",
       "      <td>85698822-43f5</td>\n",
       "      <td>90000</td>\n",
       "      <td>2</td>\n",
       "      <td>2</td>\n",
       "      <td>2</td>\n",
       "      <td>34</td>\n",
       "      <td>0</td>\n",
       "      <td>0</td>\n",
       "      <td>0</td>\n",
       "      <td>0</td>\n",
       "      <td>0</td>\n",
       "      <td>0</td>\n",
       "      <td>29239</td>\n",
       "      <td>14027</td>\n",
       "      <td>13559</td>\n",
       "      <td>14331</td>\n",
       "      <td>14948</td>\n",
       "      <td>15549</td>\n",
       "      <td>1518</td>\n",
       "      <td>1500</td>\n",
       "      <td>1000</td>\n",
       "      <td>1000</td>\n",
       "      <td>1000</td>\n",
       "      <td>5000</td>\n",
       "      <td>0</td>\n",
       "      <td>university</td>\n",
       "      <td>0</td>\n",
       "      <td>0</td>\n",
       "      <td>0</td>\n",
       "      <td>1</td>\n",
       "    </tr>\n",
       "    <tr>\n",
       "      <th>3</th>\n",
       "      <td>0737c11b-be42</td>\n",
       "      <td>50000</td>\n",
       "      <td>2</td>\n",
       "      <td>2</td>\n",
       "      <td>1</td>\n",
       "      <td>37</td>\n",
       "      <td>0</td>\n",
       "      <td>0</td>\n",
       "      <td>0</td>\n",
       "      <td>0</td>\n",
       "      <td>0</td>\n",
       "      <td>0</td>\n",
       "      <td>46990</td>\n",
       "      <td>48233</td>\n",
       "      <td>49291</td>\n",
       "      <td>28314</td>\n",
       "      <td>28959</td>\n",
       "      <td>29547</td>\n",
       "      <td>2000</td>\n",
       "      <td>2019</td>\n",
       "      <td>1200</td>\n",
       "      <td>1100</td>\n",
       "      <td>1069</td>\n",
       "      <td>1000</td>\n",
       "      <td>0</td>\n",
       "      <td>university</td>\n",
       "      <td>0</td>\n",
       "      <td>0</td>\n",
       "      <td>0</td>\n",
       "      <td>1</td>\n",
       "    </tr>\n",
       "    <tr>\n",
       "      <th>4</th>\n",
       "      <td>3b7f77cc-dbc0</td>\n",
       "      <td>50000</td>\n",
       "      <td>1</td>\n",
       "      <td>2</td>\n",
       "      <td>1</td>\n",
       "      <td>57</td>\n",
       "      <td>-1</td>\n",
       "      <td>0</td>\n",
       "      <td>-1</td>\n",
       "      <td>0</td>\n",
       "      <td>0</td>\n",
       "      <td>0</td>\n",
       "      <td>8617</td>\n",
       "      <td>5670</td>\n",
       "      <td>35835</td>\n",
       "      <td>20940</td>\n",
       "      <td>19146</td>\n",
       "      <td>19131</td>\n",
       "      <td>2000</td>\n",
       "      <td>36681</td>\n",
       "      <td>10000</td>\n",
       "      <td>9000</td>\n",
       "      <td>689</td>\n",
       "      <td>679</td>\n",
       "      <td>0</td>\n",
       "      <td>university</td>\n",
       "      <td>0</td>\n",
       "      <td>0</td>\n",
       "      <td>0</td>\n",
       "      <td>1</td>\n",
       "    </tr>\n",
       "  </tbody>\n",
       "</table>\n",
       "</div>"
      ],
      "text/plain": [
       "              ID  LIMIT_BAL  SEX  EDUCATION  MARRIAGE  AGE  PAY_1  PAY_2  \\\n",
       "0  798fc410-45c1      20000    2          2         1   24      2      2   \n",
       "1  8a8c8f3b-8eb4     120000    2          2         2   26     -1      2   \n",
       "2  85698822-43f5      90000    2          2         2   34      0      0   \n",
       "3  0737c11b-be42      50000    2          2         1   37      0      0   \n",
       "4  3b7f77cc-dbc0      50000    1          2         1   57     -1      0   \n",
       "\n",
       "   PAY_3  PAY_4  PAY_5  PAY_6  BILL_AMT1  BILL_AMT2  BILL_AMT3  BILL_AMT4  \\\n",
       "0     -1     -1     -2     -2       3913       3102        689          0   \n",
       "1      0      0      0      2       2682       1725       2682       3272   \n",
       "2      0      0      0      0      29239      14027      13559      14331   \n",
       "3      0      0      0      0      46990      48233      49291      28314   \n",
       "4     -1      0      0      0       8617       5670      35835      20940   \n",
       "\n",
       "   BILL_AMT5  BILL_AMT6  PAY_AMT1  PAY_AMT2  PAY_AMT3  PAY_AMT4  PAY_AMT5  \\\n",
       "0          0          0         0       689         0         0         0   \n",
       "1       3455       3261         0      1000      1000      1000         0   \n",
       "2      14948      15549      1518      1500      1000      1000      1000   \n",
       "3      28959      29547      2000      2019      1200      1100      1069   \n",
       "4      19146      19131      2000     36681     10000      9000       689   \n",
       "\n",
       "   PAY_AMT6  TARGET EDUCATION_CAT  EDUC_GRAD_SCHOOL  EDUC_HIGH_SCHOOL  \\\n",
       "0         0       1    university                 0                 0   \n",
       "1      2000       1    university                 0                 0   \n",
       "2      5000       0    university                 0                 0   \n",
       "3      1000       0    university                 0                 0   \n",
       "4       679       0    university                 0                 0   \n",
       "\n",
       "   EDUC_OTHERS  EDUC_UNIVERSITY  \n",
       "0            0                1  \n",
       "1            0                1  \n",
       "2            0                1  \n",
       "3            0                1  \n",
       "4            0                1  "
      ]
     },
     "execution_count": 39,
     "metadata": {},
     "output_type": "execute_result"
    }
   ],
   "source": [
    "df.head()"
   ]
  },
  {
   "cell_type": "markdown",
   "id": "5cd2e044-aa1d-4bf5-bb6f-91dc1dfe0ded",
   "metadata": {},
   "source": [
    "##### Exploring the Financial History Features in the Dataset"
   ]
  },
  {
   "cell_type": "code",
   "execution_count": 40,
   "id": "75634b61-9aef-4198-b9ec-e74e32538335",
   "metadata": {},
   "outputs": [
    {
     "data": {
      "text/html": [
       "<div>\n",
       "<style scoped>\n",
       "    .dataframe tbody tr th:only-of-type {\n",
       "        vertical-align: middle;\n",
       "    }\n",
       "\n",
       "    .dataframe tbody tr th {\n",
       "        vertical-align: top;\n",
       "    }\n",
       "\n",
       "    .dataframe thead th {\n",
       "        text-align: right;\n",
       "    }\n",
       "</style>\n",
       "<table border=\"1\" class=\"dataframe\">\n",
       "  <thead>\n",
       "    <tr style=\"text-align: right;\">\n",
       "      <th></th>\n",
       "      <th>PAY_1</th>\n",
       "      <th>PAY_2</th>\n",
       "      <th>PAY_3</th>\n",
       "      <th>PAY_4</th>\n",
       "      <th>PAY_5</th>\n",
       "      <th>PAY_6</th>\n",
       "    </tr>\n",
       "  </thead>\n",
       "  <tbody>\n",
       "    <tr>\n",
       "      <th>count</th>\n",
       "      <td>26664.000000</td>\n",
       "      <td>26664.000000</td>\n",
       "      <td>26664.000000</td>\n",
       "      <td>26664.000000</td>\n",
       "      <td>26664.000000</td>\n",
       "      <td>26664.000000</td>\n",
       "    </tr>\n",
       "    <tr>\n",
       "      <th>mean</th>\n",
       "      <td>-0.017777</td>\n",
       "      <td>-0.133363</td>\n",
       "      <td>-0.167679</td>\n",
       "      <td>-0.225023</td>\n",
       "      <td>-0.269764</td>\n",
       "      <td>-0.293579</td>\n",
       "    </tr>\n",
       "    <tr>\n",
       "      <th>std</th>\n",
       "      <td>1.126769</td>\n",
       "      <td>1.198640</td>\n",
       "      <td>1.199165</td>\n",
       "      <td>1.167897</td>\n",
       "      <td>1.131735</td>\n",
       "      <td>1.150229</td>\n",
       "    </tr>\n",
       "    <tr>\n",
       "      <th>min</th>\n",
       "      <td>-2.000000</td>\n",
       "      <td>-2.000000</td>\n",
       "      <td>-2.000000</td>\n",
       "      <td>-2.000000</td>\n",
       "      <td>-2.000000</td>\n",
       "      <td>-2.000000</td>\n",
       "    </tr>\n",
       "    <tr>\n",
       "      <th>25%</th>\n",
       "      <td>-1.000000</td>\n",
       "      <td>-1.000000</td>\n",
       "      <td>-1.000000</td>\n",
       "      <td>-1.000000</td>\n",
       "      <td>-1.000000</td>\n",
       "      <td>-1.000000</td>\n",
       "    </tr>\n",
       "    <tr>\n",
       "      <th>50%</th>\n",
       "      <td>0.000000</td>\n",
       "      <td>0.000000</td>\n",
       "      <td>0.000000</td>\n",
       "      <td>0.000000</td>\n",
       "      <td>0.000000</td>\n",
       "      <td>0.000000</td>\n",
       "    </tr>\n",
       "    <tr>\n",
       "      <th>75%</th>\n",
       "      <td>0.000000</td>\n",
       "      <td>0.000000</td>\n",
       "      <td>0.000000</td>\n",
       "      <td>0.000000</td>\n",
       "      <td>0.000000</td>\n",
       "      <td>0.000000</td>\n",
       "    </tr>\n",
       "    <tr>\n",
       "      <th>max</th>\n",
       "      <td>8.000000</td>\n",
       "      <td>8.000000</td>\n",
       "      <td>8.000000</td>\n",
       "      <td>8.000000</td>\n",
       "      <td>8.000000</td>\n",
       "      <td>8.000000</td>\n",
       "    </tr>\n",
       "  </tbody>\n",
       "</table>\n",
       "</div>"
      ],
      "text/plain": [
       "              PAY_1         PAY_2         PAY_3         PAY_4         PAY_5  \\\n",
       "count  26664.000000  26664.000000  26664.000000  26664.000000  26664.000000   \n",
       "mean      -0.017777     -0.133363     -0.167679     -0.225023     -0.269764   \n",
       "std        1.126769      1.198640      1.199165      1.167897      1.131735   \n",
       "min       -2.000000     -2.000000     -2.000000     -2.000000     -2.000000   \n",
       "25%       -1.000000     -1.000000     -1.000000     -1.000000     -1.000000   \n",
       "50%        0.000000      0.000000      0.000000      0.000000      0.000000   \n",
       "75%        0.000000      0.000000      0.000000      0.000000      0.000000   \n",
       "max        8.000000      8.000000      8.000000      8.000000      8.000000   \n",
       "\n",
       "              PAY_6  \n",
       "count  26664.000000  \n",
       "mean      -0.293579  \n",
       "std        1.150229  \n",
       "min       -2.000000  \n",
       "25%       -1.000000  \n",
       "50%        0.000000  \n",
       "75%        0.000000  \n",
       "max        8.000000  "
      ]
     },
     "execution_count": 40,
     "metadata": {},
     "output_type": "execute_result"
    }
   ],
   "source": [
    "pay_feats = [\"PAY_1\", \"PAY_2\", \"PAY_3\", \"PAY_4\", \"PAY_5\", \"PAY_6\"]\n",
    "\n",
    "df[pay_feats].describe()"
   ]
  },
  {
   "cell_type": "markdown",
   "id": "27a30060-05d0-42fd-893f-4b69af27e484",
   "metadata": {},
   "source": [
    "#### Introduction to Scikit-Learn and Model Evaluation"
   ]
  },
  {
   "cell_type": "markdown",
   "id": "74709a47-b0e8-4fa4-87c0-bd17ef31dacf",
   "metadata": {},
   "source": [
    "##### Gerando dados sintéticos"
   ]
  },
  {
   "cell_type": "code",
   "execution_count": 41,
   "id": "9dafafac-85a3-4db5-9b60-f666948081ce",
   "metadata": {
    "scrolled": true
   },
   "outputs": [],
   "source": [
    "np.random.seed(1)\n",
    "\n",
    "# 1000 dados aleatórios com seed igual a \"1\", variando entre \"0.0\" e \"10.0\"\n",
    "X = np.random.uniform(low=0.0, high=10.0, size=(1000,))\n",
    "\n",
    "slope = 0.25\n",
    "intercept = -1.25\n",
    "# 1000 dados aleatórios de uma distribuição normal, com média igual a \"0\" e desvio padrão igual a \"1\"\n",
    "noise = np.random.normal(loc=0.0, scale=1.0, size=(1000,))\n",
    "\n",
    "y = slope * X + intercept + noise"
   ]
  },
  {
   "cell_type": "markdown",
   "id": "6696969d-0268-4fd9-a630-e518b91a7da9",
   "metadata": {},
   "source": [
    "###### Visualizando dados gerados"
   ]
  },
  {
   "cell_type": "code",
   "execution_count": 42,
   "id": "9e01dfb2-e2b8-4580-82a3-02d4f60e9b2b",
   "metadata": {},
   "outputs": [
    {
     "data": {
      "image/png": "[encoded data removed]",
      "text/plain": [
       "<Figure size 700x300 with 1 Axes>"
      ]
     },
     "metadata": {},
     "output_type": "display_data"
    }
   ],
   "source": [
    "plt.figure(figsize=(7, 3))\n",
    "plt.scatter(X, y, s=1);"
   ]
  },
  {
   "cell_type": "markdown",
   "id": "9a108b19-125d-467c-a7d3-10c9a45763b4",
   "metadata": {},
   "source": [
    "##### Instanciando modelo estatístico"
   ]
  },
  {
   "cell_type": "code",
   "execution_count": 43,
   "id": "f96b2351-348f-45a0-ab85-6719132eaff5",
   "metadata": {},
   "outputs": [],
   "source": [
    "from sklearn.linear_model import LinearRegression\n",
    "\n",
    "linear_reg_test = LinearRegression()"
   ]
  },
  {
   "cell_type": "markdown",
   "id": "693d98c2-299f-4532-9bca-b3ce7907f6f9",
   "metadata": {},
   "source": [
    "##### Treinamento do modelo com dados sintéticos"
   ]
  },
  {
   "cell_type": "code",
   "execution_count": 44,
   "id": "232c2d17-d3ac-4726-ac06-2b51d61e9f3f",
   "metadata": {},
   "outputs": [
    {
     "data": {
      "text/html": [
       "<style>#sk-container-id-1 {\n",
       "  /* Definition of color scheme common for light and dark mode */\n",
       "  --sklearn-color-text: black;\n",
       "  --sklearn-color-line: gray;\n",
       "  /* Definition of color scheme for unfitted estimators */\n",
       "  --sklearn-color-unfitted-level-0: #fff5e6;\n",
       "  --sklearn-color-unfitted-level-1: #f6e4d2;\n",
       "  --sklearn-color-unfitted-level-2: #ffe0b3;\n",
       "  --sklearn-color-unfitted-level-3: chocolate;\n",
       "  /* Definition of color scheme for fitted estimators */\n",
       "  --sklearn-color-fitted-level-0: #f0f8ff;\n",
       "  --sklearn-color-fitted-level-1: #d4ebff;\n",
       "  --sklearn-color-fitted-level-2: #b3dbfd;\n",
       "  --sklearn-color-fitted-level-3: cornflowerblue;\n",
       "\n",
       "  /* Specific color for light theme */\n",
       "  --sklearn-color-text-on-default-background: var(--sg-text-color, var(--theme-code-foreground, var(--jp-content-font-color1, black)));\n",
       "  --sklearn-color-background: var(--sg-background-color, var(--theme-background, var(--jp-layout-color0, white)));\n",
       "  --sklearn-color-border-box: var(--sg-text-color, var(--theme-code-foreground, var(--jp-content-font-color1, black)));\n",
       "  --sklearn-color-icon: #696969;\n",
       "\n",
       "  @media (prefers-color-scheme: dark) {\n",
       "    /* Redefinition of color scheme for dark theme */\n",
       "    --sklearn-color-text-on-default-background: var(--sg-text-color, var(--theme-code-foreground, var(--jp-content-font-color1, white)));\n",
       "    --sklearn-color-background: var(--sg-background-color, var(--theme-background, var(--jp-layout-color0, #111)));\n",
       "    --sklearn-color-border-box: var(--sg-text-color, var(--theme-code-foreground, var(--jp-content-font-color1, white)));\n",
       "    --sklearn-color-icon: #878787;\n",
       "  }\n",
       "}\n",
       "\n",
       "#sk-container-id-1 {\n",
       "  color: var(--sklearn-color-text);\n",
       "}\n",
       "\n",
       "#sk-container-id-1 pre {\n",
       "  padding: 0;\n",
       "}\n",
       "\n",
       "#sk-container-id-1 input.sk-hidden--visually {\n",
       "  border: 0;\n",
       "  clip: rect(1px 1px 1px 1px);\n",
       "  clip: rect(1px, 1px, 1px, 1px);\n",
       "  height: 1px;\n",
       "  margin: -1px;\n",
       "  overflow: hidden;\n",
       "  padding: 0;\n",
       "  position: absolute;\n",
       "  width: 1px;\n",
       "}\n",
       "\n",
       "#sk-container-id-1 div.sk-dashed-wrapped {\n",
       "  border: 1px dashed var(--sklearn-color-line);\n",
       "  margin: 0 0.4em 0.5em 0.4em;\n",
       "  box-sizing: border-box;\n",
       "  padding-bottom: 0.4em;\n",
       "  background-color: var(--sklearn-color-background);\n",
       "}\n",
       "\n",
       "#sk-container-id-1 div.sk-container {\n",
       "  /* jupyter's `normalize.less` sets `[hidden] { display: none; }`\n",
       "     but bootstrap.min.css set `[hidden] { display: none !important; }`\n",
       "     so we also need the `!important` here to be able to override the\n",
       "     default hidden behavior on the sphinx rendered scikit-learn.org.\n",
       "     See: https://github.com/scikit-learn/scikit-learn/issues/21755 */\n",
       "  display: inline-block !important;\n",
       "  position: relative;\n",
       "}\n",
       "\n",
       "#sk-container-id-1 div.sk-text-repr-fallback {\n",
       "  display: none;\n",
       "}\n",
       "\n",
       "div.sk-parallel-item,\n",
       "div.sk-serial,\n",
       "div.sk-item {\n",
       "  /* draw centered vertical line to link estimators */\n",
       "  background-image: linear-gradient(var(--sklearn-color-text-on-default-background), var(--sklearn-color-text-on-default-background));\n",
       "  background-size: 2px 100%;\n",
       "  background-repeat: no-repeat;\n",
       "  background-position: center center;\n",
       "}\n",
       "\n",
       "/* Parallel-specific style estimator block */\n",
       "\n",
       "#sk-container-id-1 div.sk-parallel-item::after {\n",
       "  content: \"\";\n",
       "  width: 100%;\n",
       "  border-bottom: 2px solid var(--sklearn-color-text-on-default-background);\n",
       "  flex-grow: 1;\n",
       "}\n",
       "\n",
       "#sk-container-id-1 div.sk-parallel {\n",
       "  display: flex;\n",
       "  align-items: stretch;\n",
       "  justify-content: center;\n",
       "  background-color: var(--sklearn-color-background);\n",
       "  position: relative;\n",
       "}\n",
       "\n",
       "#sk-container-id-1 div.sk-parallel-item {\n",
       "  display: flex;\n",
       "  flex-direction: column;\n",
       "}\n",
       "\n",
       "#sk-container-id-1 div.sk-parallel-item:first-child::after {\n",
       "  align-self: flex-end;\n",
       "  width: 50%;\n",
       "}\n",
       "\n",
       "#sk-container-id-1 div.sk-parallel-item:last-child::after {\n",
       "  align-self: flex-start;\n",
       "  width: 50%;\n",
       "}\n",
       "\n",
       "#sk-container-id-1 div.sk-parallel-item:only-child::after {\n",
       "  width: 0;\n",
       "}\n",
       "\n",
       "/* Serial-specific style estimator block */\n",
       "\n",
       "#sk-container-id-1 div.sk-serial {\n",
       "  display: flex;\n",
       "  flex-direction: column;\n",
       "  align-items: center;\n",
       "  background-color: var(--sklearn-color-background);\n",
       "  padding-right: 1em;\n",
       "  padding-left: 1em;\n",
       "}\n",
       "\n",
       "\n",
       "/* Toggleable style: style used for estimator/Pipeline/ColumnTransformer box that is\n",
       "clickable and can be expanded/collapsed.\n",
       "- Pipeline and ColumnTransformer use this feature and define the default style\n",
       "- Estimators will overwrite some part of the style using the `sk-estimator` class\n",
       "*/\n",
       "\n",
       "/* Pipeline and ColumnTransformer style (default) */\n",
       "\n",
       "#sk-container-id-1 div.sk-toggleable {\n",
       "  /* Default theme specific background. It is overwritten whether we have a\n",
       "  specific estimator or a Pipeline/ColumnTransformer */\n",
       "  background-color: var(--sklearn-color-background);\n",
       "}\n",
       "\n",
       "/* Toggleable label */\n",
       "#sk-container-id-1 label.sk-toggleable__label {\n",
       "  cursor: pointer;\n",
       "  display: block;\n",
       "  width: 100%;\n",
       "  margin-bottom: 0;\n",
       "  padding: 0.5em;\n",
       "  box-sizing: border-box;\n",
       "  text-align: center;\n",
       "}\n",
       "\n",
       "#sk-container-id-1 label.sk-toggleable__label-arrow:before {\n",
       "  /* Arrow on the left of the label */\n",
       "  content: \"▸\";\n",
       "  float: left;\n",
       "  margin-right: 0.25em;\n",
       "  color: var(--sklearn-color-icon);\n",
       "}\n",
       "\n",
       "#sk-container-id-1 label.sk-toggleable__label-arrow:hover:before {\n",
       "  color: var(--sklearn-color-text);\n",
       "}\n",
       "\n",
       "/* Toggleable content - dropdown */\n",
       "\n",
       "#sk-container-id-1 div.sk-toggleable__content {\n",
       "  max-height: 0;\n",
       "  max-width: 0;\n",
       "  overflow: hidden;\n",
       "  text-align: left;\n",
       "  /* unfitted */\n",
       "  background-color: var(--sklearn-color-unfitted-level-0);\n",
       "}\n",
       "\n",
       "#sk-container-id-1 div.sk-toggleable__content.fitted {\n",
       "  /* fitted */\n",
       "  background-color: var(--sklearn-color-fitted-level-0);\n",
       "}\n",
       "\n",
       "#sk-container-id-1 div.sk-toggleable__content pre {\n",
       "  margin: 0.2em;\n",
       "  border-radius: 0.25em;\n",
       "  color: var(--sklearn-color-text);\n",
       "  /* unfitted */\n",
       "  background-color: var(--sklearn-color-unfitted-level-0);\n",
       "}\n",
       "\n",
       "#sk-container-id-1 div.sk-toggleable__content.fitted pre {\n",
       "  /* unfitted */\n",
       "  background-color: var(--sklearn-color-fitted-level-0);\n",
       "}\n",
       "\n",
       "#sk-container-id-1 input.sk-toggleable__control:checked~div.sk-toggleable__content {\n",
       "  /* Expand drop-down */\n",
       "  max-height: 200px;\n",
       "  max-width: 100%;\n",
       "  overflow: auto;\n",
       "}\n",
       "\n",
       "#sk-container-id-1 input.sk-toggleable__control:checked~label.sk-toggleable__label-arrow:before {\n",
       "  content: \"▾\";\n",
       "}\n",
       "\n",
       "/* Pipeline/ColumnTransformer-specific style */\n",
       "\n",
       "#sk-container-id-1 div.sk-label input.sk-toggleable__control:checked~label.sk-toggleable__label {\n",
       "  color: var(--sklearn-color-text);\n",
       "  background-color: var(--sklearn-color-unfitted-level-2);\n",
       "}\n",
       "\n",
       "#sk-container-id-1 div.sk-label.fitted input.sk-toggleable__control:checked~label.sk-toggleable__label {\n",
       "  background-color: var(--sklearn-color-fitted-level-2);\n",
       "}\n",
       "\n",
       "/* Estimator-specific style */\n",
       "\n",
       "/* Colorize estimator box */\n",
       "#sk-container-id-1 div.sk-estimator input.sk-toggleable__control:checked~label.sk-toggleable__label {\n",
       "  /* unfitted */\n",
       "  background-color: var(--sklearn-color-unfitted-level-2);\n",
       "}\n",
       "\n",
       "#sk-container-id-1 div.sk-estimator.fitted input.sk-toggleable__control:checked~label.sk-toggleable__label {\n",
       "  /* fitted */\n",
       "  background-color: var(--sklearn-color-fitted-level-2);\n",
       "}\n",
       "\n",
       "#sk-container-id-1 div.sk-label label.sk-toggleable__label,\n",
       "#sk-container-id-1 div.sk-label label {\n",
       "  /* The background is the default theme color */\n",
       "  color: var(--sklearn-color-text-on-default-background);\n",
       "}\n",
       "\n",
       "/* On hover, darken the color of the background */\n",
       "#sk-container-id-1 div.sk-label:hover label.sk-toggleable__label {\n",
       "  color: var(--sklearn-color-text);\n",
       "  background-color: var(--sklearn-color-unfitted-level-2);\n",
       "}\n",
       "\n",
       "/* Label box, darken color on hover, fitted */\n",
       "#sk-container-id-1 div.sk-label.fitted:hover label.sk-toggleable__label.fitted {\n",
       "  color: var(--sklearn-color-text);\n",
       "  background-color: var(--sklearn-color-fitted-level-2);\n",
       "}\n",
       "\n",
       "/* Estimator label */\n",
       "\n",
       "#sk-container-id-1 div.sk-label label {\n",
       "  font-family: monospace;\n",
       "  font-weight: bold;\n",
       "  display: inline-block;\n",
       "  line-height: 1.2em;\n",
       "}\n",
       "\n",
       "#sk-container-id-1 div.sk-label-container {\n",
       "  text-align: center;\n",
       "}\n",
       "\n",
       "/* Estimator-specific */\n",
       "#sk-container-id-1 div.sk-estimator {\n",
       "  font-family: monospace;\n",
       "  border: 1px dotted var(--sklearn-color-border-box);\n",
       "  border-radius: 0.25em;\n",
       "  box-sizing: border-box;\n",
       "  margin-bottom: 0.5em;\n",
       "  /* unfitted */\n",
       "  background-color: var(--sklearn-color-unfitted-level-0);\n",
       "}\n",
       "\n",
       "#sk-container-id-1 div.sk-estimator.fitted {\n",
       "  /* fitted */\n",
       "  background-color: var(--sklearn-color-fitted-level-0);\n",
       "}\n",
       "\n",
       "/* on hover */\n",
       "#sk-container-id-1 div.sk-estimator:hover {\n",
       "  /* unfitted */\n",
       "  background-color: var(--sklearn-color-unfitted-level-2);\n",
       "}\n",
       "\n",
       "#sk-container-id-1 div.sk-estimator.fitted:hover {\n",
       "  /* fitted */\n",
       "  background-color: var(--sklearn-color-fitted-level-2);\n",
       "}\n",
       "\n",
       "/* Specification for estimator info (e.g. \"i\" and \"?\") */\n",
       "\n",
       "/* Common style for \"i\" and \"?\" */\n",
       "\n",
       ".sk-estimator-doc-link,\n",
       "a:link.sk-estimator-doc-link,\n",
       "a:visited.sk-estimator-doc-link {\n",
       "  float: right;\n",
       "  font-size: smaller;\n",
       "  line-height: 1em;\n",
       "  font-family: monospace;\n",
       "  background-color: var(--sklearn-color-background);\n",
       "  border-radius: 1em;\n",
       "  height: 1em;\n",
       "  width: 1em;\n",
       "  text-decoration: none !important;\n",
       "  margin-left: 1ex;\n",
       "  /* unfitted */\n",
       "  border: var(--sklearn-color-unfitted-level-1) 1pt solid;\n",
       "  color: var(--sklearn-color-unfitted-level-1);\n",
       "}\n",
       "\n",
       ".sk-estimator-doc-link.fitted,\n",
       "a:link.sk-estimator-doc-link.fitted,\n",
       "a:visited.sk-estimator-doc-link.fitted {\n",
       "  /* fitted */\n",
       "  border: var(--sklearn-color-fitted-level-1) 1pt solid;\n",
       "  color: var(--sklearn-color-fitted-level-1);\n",
       "}\n",
       "\n",
       "/* On hover */\n",
       "div.sk-estimator:hover .sk-estimator-doc-link:hover,\n",
       ".sk-estimator-doc-link:hover,\n",
       "div.sk-label-container:hover .sk-estimator-doc-link:hover,\n",
       ".sk-estimator-doc-link:hover {\n",
       "  /* unfitted */\n",
       "  background-color: var(--sklearn-color-unfitted-level-3);\n",
       "  color: var(--sklearn-color-background);\n",
       "  text-decoration: none;\n",
       "}\n",
       "\n",
       "div.sk-estimator.fitted:hover .sk-estimator-doc-link.fitted:hover,\n",
       ".sk-estimator-doc-link.fitted:hover,\n",
       "div.sk-label-container:hover .sk-estimator-doc-link.fitted:hover,\n",
       ".sk-estimator-doc-link.fitted:hover {\n",
       "  /* fitted */\n",
       "  background-color: var(--sklearn-color-fitted-level-3);\n",
       "  color: var(--sklearn-color-background);\n",
       "  text-decoration: none;\n",
       "}\n",
       "\n",
       "/* Span, style for the box shown on hovering the info icon */\n",
       ".sk-estimator-doc-link span {\n",
       "  display: none;\n",
       "  z-index: 9999;\n",
       "  position: relative;\n",
       "  font-weight: normal;\n",
       "  right: .2ex;\n",
       "  padding: .5ex;\n",
       "  margin: .5ex;\n",
       "  width: min-content;\n",
       "  min-width: 20ex;\n",
       "  max-width: 50ex;\n",
       "  color: var(--sklearn-color-text);\n",
       "  box-shadow: 2pt 2pt 4pt #999;\n",
       "  /* unfitted */\n",
       "  background: var(--sklearn-color-unfitted-level-0);\n",
       "  border: .5pt solid var(--sklearn-color-unfitted-level-3);\n",
       "}\n",
       "\n",
       ".sk-estimator-doc-link.fitted span {\n",
       "  /* fitted */\n",
       "  background: var(--sklearn-color-fitted-level-0);\n",
       "  border: var(--sklearn-color-fitted-level-3);\n",
       "}\n",
       "\n",
       ".sk-estimator-doc-link:hover span {\n",
       "  display: block;\n",
       "}\n",
       "\n",
       "/* \"?\"-specific style due to the `<a>` HTML tag */\n",
       "\n",
       "#sk-container-id-1 a.estimator_doc_link {\n",
       "  float: right;\n",
       "  font-size: 1rem;\n",
       "  line-height: 1em;\n",
       "  font-family: monospace;\n",
       "  background-color: var(--sklearn-color-background);\n",
       "  border-radius: 1rem;\n",
       "  height: 1rem;\n",
       "  width: 1rem;\n",
       "  text-decoration: none;\n",
       "  /* unfitted */\n",
       "  color: var(--sklearn-color-unfitted-level-1);\n",
       "  border: var(--sklearn-color-unfitted-level-1) 1pt solid;\n",
       "}\n",
       "\n",
       "#sk-container-id-1 a.estimator_doc_link.fitted {\n",
       "  /* fitted */\n",
       "  border: var(--sklearn-color-fitted-level-1) 1pt solid;\n",
       "  color: var(--sklearn-color-fitted-level-1);\n",
       "}\n",
       "\n",
       "/* On hover */\n",
       "#sk-container-id-1 a.estimator_doc_link:hover {\n",
       "  /* unfitted */\n",
       "  background-color: var(--sklearn-color-unfitted-level-3);\n",
       "  color: var(--sklearn-color-background);\n",
       "  text-decoration: none;\n",
       "}\n",
       "\n",
       "#sk-container-id-1 a.estimator_doc_link.fitted:hover {\n",
       "  /* fitted */\n",
       "  background-color: var(--sklearn-color-fitted-level-3);\n",
       "}\n",
       "</style><div id=\"sk-container-id-1\" class=\"sk-top-container\"><div class=\"sk-text-repr-fallback\"><pre>LinearRegression()</pre><b>In a Jupyter environment, please rerun this cell to show the HTML representation or trust the notebook. <br />On GitHub, the HTML representation is unable to render, please try loading this page with nbviewer.org.</b></div><div class=\"sk-container\" hidden><div class=\"sk-item\"><div class=\"sk-estimator fitted sk-toggleable\"><input class=\"sk-toggleable__control sk-hidden--visually\" id=\"sk-estimator-id-1\" type=\"checkbox\" checked><label for=\"sk-estimator-id-1\" class=\"sk-toggleable__label fitted sk-toggleable__label-arrow fitted\">&nbsp;&nbsp;LinearRegression<a class=\"sk-estimator-doc-link fitted\" rel=\"noreferrer\" target=\"_blank\" href=\"https://scikit-learn.org/1.4/modules/generated/sklearn.linear_model.LinearRegression.html\">?<span>Documentation for LinearRegression</span></a><span class=\"sk-estimator-doc-link fitted\">i<span>Fitted</span></span></label><div class=\"sk-toggleable__content fitted\"><pre>LinearRegression()</pre></div> </div></div></div></div>"
      ],
      "text/plain": [
       "LinearRegression()"
      ]
     },
     "execution_count": 44,
     "metadata": {},
     "output_type": "execute_result"
    }
   ],
   "source": [
    "# Transformando o X em uma matriz bidimensional, onde 1 representa o número de colunas e -1 indica que que o tamanho dessa dimensão\n",
    "# deve ser calculado automaticamente para manter o número total de elementos constante\n",
    "\n",
    "matriz_bidimensional_X = X.reshape(-1, 1)\n",
    "\n",
    "linear_reg_test.fit(matriz_bidimensional_X, y)"
   ]
  },
  {
   "cell_type": "markdown",
   "id": "5234a8df-3781-414c-bb34-180aa96b812f",
   "metadata": {},
   "source": [
    "##### Realizando a previsão nos dados sintéticos"
   ]
  },
  {
   "cell_type": "code",
   "execution_count": 45,
   "id": "4916597f-c2d7-48ee-990b-f91dd6259152",
   "metadata": {},
   "outputs": [],
   "source": [
    "y_pred = linear_reg_test.predict(matriz_bidimensional_X)"
   ]
  },
  {
   "cell_type": "code",
   "execution_count": 46,
   "id": "23c77b53-0e0d-494b-be3d-551fd10d3621",
   "metadata": {},
   "outputs": [
    {
     "data": {
      "image/png": "[encoded data removed]",
      "text/plain": [
       "<Figure size 700x300 with 1 Axes>"
      ]
     },
     "metadata": {},
     "output_type": "display_data"
    }
   ],
   "source": [
    "plt.figure(figsize=(7, 3))\n",
    "plt.scatter(X, y, s=1)\n",
    "plt.plot(X, y_pred, color='red');"
   ]
  },
  {
   "cell_type": "markdown",
   "id": "c1b191d8-1a7b-4574-9793-305d6fd7924e",
   "metadata": {},
   "source": [
    "##### Divisão entre treino e teste"
   ]
  },
  {
   "cell_type": "code",
   "execution_count": 47,
   "id": "08f49101-6c60-4737-8536-53f068e8cf37",
   "metadata": {},
   "outputs": [],
   "source": [
    "from sklearn.model_selection import train_test_split\n",
    "\n",
    "X_train, X_test, y_train, y_test = train_test_split(\n",
    "    df['EDUCATION'].values.reshape(-1, 1),\n",
    "    df['TARGET'].values,\n",
    "    test_size=0.2,\n",
    "    random_state=24)"
   ]
  },
  {
   "cell_type": "markdown",
   "id": "776f7189-ae34-40fe-93b4-7f7397986307",
   "metadata": {},
   "source": [
    "##### Realizando a previsão com apenas uma coluna do dataset"
   ]
  },
  {
   "cell_type": "code",
   "execution_count": 48,
   "id": "51e68bb2-64ee-44ea-bad1-3f5a46ed29ae",
   "metadata": {},
   "outputs": [],
   "source": [
    "from sklearn.linear_model import LogisticRegression\n",
    "\n",
    "log_reg_test = LogisticRegression()\n",
    "\n",
    "log_reg_test.fit(X_train, y_train)\n",
    "y_pred = log_reg_test.predict(X_test)"
   ]
  },
  {
   "cell_type": "markdown",
   "id": "88159c69-b73c-40d9-9b79-c7e3fa761587",
   "metadata": {},
   "source": [
    "##### Cálciulo de métricas"
   ]
  },
  {
   "cell_type": "code",
   "execution_count": 49,
   "id": "e179bb56-c226-4b67-9467-8cbb55269208",
   "metadata": {},
   "outputs": [
    {
     "data": {
      "text/plain": [
       "0.7834239639977498"
      ]
     },
     "execution_count": 49,
     "metadata": {},
     "output_type": "execute_result"
    }
   ],
   "source": [
    "# Checando acurácia da predição\n",
    "from sklearn import metrics\n",
    "\n",
    "metrics.accuracy_score(y_pred, y_test)"
   ]
  },
  {
   "cell_type": "code",
   "execution_count": 50,
   "id": "a58a9edc-0255-433d-8ce4-e04be47f609d",
   "metadata": {},
   "outputs": [
    {
     "data": {
      "text/plain": [
       "array([[4178,    0],\n",
       "       [1155,    0]])"
      ]
     },
     "execution_count": 50,
     "metadata": {},
     "output_type": "execute_result"
    }
   ],
   "source": [
    "# Checando matriz de confusão\n",
    "metrics.confusion_matrix(y_test, y_pred)"
   ]
  },
  {
   "cell_type": "code",
   "execution_count": 51,
   "id": "4c8d38d4-3604-4b0d-840e-d82379121339",
   "metadata": {},
   "outputs": [
    {
     "data": {
      "text/plain": [
       "array([[0.77460186, 0.22539814],\n",
       "       [0.77460186, 0.22539814],\n",
       "       [0.79040462, 0.20959538],\n",
       "       ...,\n",
       "       [0.79040462, 0.20959538],\n",
       "       [0.79040462, 0.20959538],\n",
       "       [0.79040462, 0.20959538]])"
      ]
     },
     "execution_count": 51,
     "metadata": {},
     "output_type": "execute_result"
    }
   ],
   "source": [
    "# Checando scores para cada observação\n",
    "y_pred_score = log_reg_test.predict_proba(X_test)\n",
    "\n",
    "y_pred_score"
   ]
  },
  {
   "cell_type": "code",
   "execution_count": 52,
   "id": "4cd2d0a0-609c-4984-9554-3e8fdc426630",
   "metadata": {},
   "outputs": [
    {
     "data": {
      "image/png": "[encoded data removed]",
      "text/plain": [
       "<Figure size 640x480 with 1 Axes>"
      ]
     },
     "metadata": {},
     "output_type": "display_data"
    }
   ],
   "source": [
    "plt.hist(y_pred_score[:, 1])\n",
    "plt.xlabel('Predicted probability of positive class for testing data')\n",
    "plt.ylabel('Number of samples');"
   ]
  },
  {
   "cell_type": "code",
   "execution_count": 53,
   "id": "d6c0c9bc-1be4-4ba1-a766-53a1cdc892fa",
   "metadata": {},
   "outputs": [
    {
     "data": {
      "image/png": "[encoded data removed]",
      "text/plain": [
       "<Figure size 640x480 with 1 Axes>"
      ]
     },
     "metadata": {},
     "output_type": "display_data"
    }
   ],
   "source": [
    "pos_score = y_pred_score[:, 1][y_test == 1]\n",
    "neg_score = y_pred_score[:, 1][y_test == 0]\n",
    "\n",
    "plt.hist([pos_score, neg_score], histtype='barstacked')\n",
    "plt.legend(['Positive samples', 'Negative samples'])\n",
    "plt.xlabel('Predicted probability of positive class')\n",
    "plt.ylabel('Number of samples');"
   ]
  },
  {
   "cell_type": "code",
   "execution_count": 54,
   "id": "1adb26f1-c154-4129-8186-2fc671e15068",
   "metadata": {},
   "outputs": [
    {
     "data": {
      "image/png": "[encoded data removed]",
      "text/plain": [
       "<Figure size 640x480 with 1 Axes>"
      ]
     },
     "metadata": {},
     "output_type": "display_data"
    }
   ],
   "source": [
    "# Calculando uma curva ROC para encontrar o ponto de corte ideal\n",
    "\n",
    "fpr, tpr, threshold = metrics.roc_curve(y_test, y_pred_score[:,1])\n",
    "\n",
    "plt.plot(fpr, tpr, '*-')\n",
    "plt.plot([0, 1], [0, 1], 'r--')\n",
    "plt.legend(['Logistic regression', 'Random chance'])\n",
    "plt.xlabel('FPR')\n",
    "plt.ylabel('TPR')\n",
    "plt.title('ROC curve');"
   ]
  },
  {
   "cell_type": "code",
   "execution_count": 55,
   "id": "99e992d4-6b14-489a-92d3-f555bd89ad7a",
   "metadata": {},
   "outputs": [],
   "source": [
    "education_auc = metrics.roc_auc_score(y_test, y_pred_score[:, 1])"
   ]
  },
  {
   "cell_type": "markdown",
   "id": "772fd75b-43fe-4ead-b14f-210db9f66888",
   "metadata": {},
   "source": [
    "##### Activity: Performing Logistic Regression with a New Feature and Creating a Precision-Recall Curve"
   ]
  },
  {
   "cell_type": "markdown",
   "id": "6c0374c0-ed8b-4d12-92b9-2e8e40650a52",
   "metadata": {},
   "source": [
    "###### 1. Use scikit-learn's train_test_split to make a new set of training and testing data. This time, instead of EDUCATION, use LIMIT_BAL: the account's credit limit."
   ]
  },
  {
   "cell_type": "code",
   "execution_count": 56,
   "id": "b05a9fbc-cc7f-4fd6-ae93-6440505d2c2e",
   "metadata": {},
   "outputs": [],
   "source": [
    "X_train, X_test, y_train, y_test = train_test_split(\n",
    "    df[\"LIMIT_BAL\"].values.reshape(-1, 1),\n",
    "    df[\"TARGET\"].values,\n",
    "    test_size=0.2,\n",
    "    random_state=24)"
   ]
  },
  {
   "cell_type": "markdown",
   "id": "87a619ec-7ce4-4029-8c9d-34a4bc92143b",
   "metadata": {},
   "source": [
    "###### 2. Train a logistic regression model using the training data from your split."
   ]
  },
  {
   "cell_type": "code",
   "execution_count": 57,
   "id": "32e72463-663b-45a1-8820-9df34336a3d5",
   "metadata": {},
   "outputs": [],
   "source": [
    "log_reg_test = LogisticRegression()\n",
    "log_reg_test.fit(X_train, y_train)\n",
    "\n",
    "y_pred = log_reg_test.predict(X_test)"
   ]
  },
  {
   "cell_type": "markdown",
   "id": "f00cbc02-901f-4955-9083-0144cab82870",
   "metadata": {},
   "source": [
    "###### 3. Create the array of predicted probabilities for the testing data."
   ]
  },
  {
   "cell_type": "code",
   "execution_count": 58,
   "id": "6fe0dec7-17d3-45e0-974a-1dab17e196b0",
   "metadata": {},
   "outputs": [],
   "source": [
    "y_proba = log_reg_test.predict_proba(X_test)\n",
    "y_pos_proba = y_proba[:, 1]"
   ]
  },
  {
   "cell_type": "markdown",
   "id": "61c0620b-50c3-4f3d-a3be-cd29d381bc53",
   "metadata": {},
   "source": [
    "###### 4. Calculate the ROC AUC using the predicted probabilities and the true labels of the testing data. Compare this to the ROC AUC from using the EDUCATION feature."
   ]
  },
  {
   "cell_type": "code",
   "execution_count": 59,
   "id": "16ac8f37-723c-4bc9-9d02-6bdce5cba0ae",
   "metadata": {},
   "outputs": [
    {
     "name": "stdout",
     "output_type": "stream",
     "text": [
      "ROC AUC da variável 'EDUCATION': 0.543\n",
      "ROC AUC da variável 'LIMIT BAL': 0.62\n"
     ]
    }
   ],
   "source": [
    "limit_bal_auc = metrics.roc_auc_score(y_test, y_pos_proba)\n",
    "\n",
    "print(f\"ROC AUC da variável 'EDUCATION': {round(education_auc, 3)}\\nROC AUC da variável 'LIMIT BAL': {round(limit_bal_auc, 3)}\")"
   ]
  },
  {
   "cell_type": "markdown",
   "id": "fecb7ac7-f2e0-4c3a-a012-2574371fec8f",
   "metadata": {},
   "source": [
    "##### 5. Plot the ROC curve."
   ]
  },
  {
   "cell_type": "code",
   "execution_count": 60,
   "id": "43944ac0-1f7a-4fb1-aec4-e6b674251e04",
   "metadata": {},
   "outputs": [],
   "source": [
    "fpr, tpr, threshold = metrics.roc_curve(y_test, y_pos_proba)"
   ]
  },
  {
   "cell_type": "code",
   "execution_count": 61,
   "id": "514638c8-5e0e-4e24-9243-f3a808051807",
   "metadata": {},
   "outputs": [
    {
     "data": {
      "image/png": "[encoded data removed]",
      "text/plain": [
       "<Figure size 640x480 with 1 Axes>"
      ]
     },
     "metadata": {},
     "output_type": "display_data"
    }
   ],
   "source": [
    "plt.plot(fpr, tpr, '*-')\n",
    "plt.plot([0, 1], [0, 1], 'r--')\n",
    "plt.legend(['Logistic regression', 'Random chance'])\n",
    "plt.xlabel('FPR')\n",
    "plt.ylabel('TPR')\n",
    "plt.title('ROC curve');"
   ]
  },
  {
   "cell_type": "markdown",
   "id": "45f1e6a1-ce1a-4596-a021-ac4e206a09f0",
   "metadata": {},
   "source": [
    "##### 6. Calculate the data for the precision-recall curve on the testing data using scikit-learn functionality."
   ]
  },
  {
   "cell_type": "code",
   "execution_count": 62,
   "id": "487f62b6-ca64-4209-9827-7514284fa262",
   "metadata": {},
   "outputs": [],
   "source": [
    "precision, recall, thresholds = metrics.precision_recall_curve(y_test, y_pos_proba)"
   ]
  },
  {
   "cell_type": "markdown",
   "id": "8f51842b-84fc-46ca-9cda-1d76a971acbe",
   "metadata": {},
   "source": [
    "##### 7. Plot the precision-recall curve using matplotlib."
   ]
  },
  {
   "cell_type": "code",
   "execution_count": 63,
   "id": "4dd114b8-ba26-4abe-b08c-fdb9d569fe6a",
   "metadata": {},
   "outputs": [
    {
     "data": {
      "image/png": "[encoded data removed]",
      "text/plain": [
       "<Figure size 640x480 with 1 Axes>"
      ]
     },
     "metadata": {},
     "output_type": "display_data"
    }
   ],
   "source": [
    "plt.plot(recall, precision)\n",
    "plt.xlabel('Recall')\n",
    "plt.ylabel('Precision')\n",
    "plt.title('Precision and recall for the logistic regression with LIMIT_BAL');"
   ]
  },
  {
   "cell_type": "markdown",
   "id": "edf14e2a-7aa7-41e3-a935-fda80227da25",
   "metadata": {},
   "source": [
    "##### 8. Use scikit-learn to calculate the area under the precision-recall curve"
   ]
  },
  {
   "cell_type": "code",
   "execution_count": 64,
   "id": "b6171dcd-8652-4462-b913-700448fa8a4b",
   "metadata": {},
   "outputs": [
    {
     "data": {
      "text/plain": [
       "0.31566964427378624"
      ]
     },
     "execution_count": 64,
     "metadata": {},
     "output_type": "execute_result"
    }
   ],
   "source": [
    "metrics.auc(recall, precision)"
   ]
  },
  {
   "cell_type": "markdown",
   "id": "fc66cfa5-480a-4522-8b78-12e0f258e064",
   "metadata": {},
   "source": [
    "##### 9. Now recalculate the ROC AUC, except this time do it for the training data. How is this different, conceptually and quantitatively, from your earlier calculation?"
   ]
  },
  {
   "cell_type": "code",
   "execution_count": 65,
   "id": "be3270da-bbbf-4c76-a11f-0fc678967008",
   "metadata": {},
   "outputs": [
    {
     "data": {
      "text/plain": [
       "0.6182918113358344"
      ]
     },
     "execution_count": 65,
     "metadata": {},
     "output_type": "execute_result"
    }
   ],
   "source": [
    "y_train_proba = log_reg_test.predict_proba(X_train)\n",
    "\n",
    "metrics.roc_auc_score(y_train, y_train_proba[:,1])"
   ]
  },
  {
   "cell_type": "markdown",
   "id": "ef3d6654-a829-44c1-bee3-1558422324f0",
   "metadata": {},
   "source": [
    "##### Examining the Relationships between Features and the Response"
   ]
  },
  {
   "cell_type": "code",
   "execution_count": 93,
   "id": "656fb40c-59ec-450a-a8ec-902c2ef4e3d3",
   "metadata": {},
   "outputs": [],
   "source": [
    "features = df.columns.tolist()\n",
    "\n",
    "items_to_remove = ['ID', 'EDUCATION_CAT', 'EDUCATION_GRAD_SCHOOL', 'EDUC_HIGH_SCHOOL',\n",
    "                    'EDUC_OTHERS', 'EDUC_UNIVERSITY']\n",
    "\n",
    "features_to_analyse = [column for column in features if column not in items_to_remove]"
   ]
  },
  {
   "cell_type": "code",
   "execution_count": 94,
   "id": "ad479cd6-b8ed-48f0-9431-5d20f5a8807e",
   "metadata": {},
   "outputs": [
    {
     "data": {
      "image/png": "[encoded data removed]",
      "text/plain": [
       "<Figure size 640x480 with 2 Axes>"
      ]
     },
     "metadata": {},
     "output_type": "display_data"
    }
   ],
   "source": [
    "corr = df[features_to_analyse].corr()\n",
    "\n",
    "sns.heatmap(corr);"
   ]
  },
  {
   "cell_type": "code",
   "execution_count": 95,
   "id": "af97207a-3527-49e3-aab8-d3796a6be442",
   "metadata": {},
   "outputs": [
    {
     "data": {
      "text/plain": [
       "TARGET              1.000000\n",
       "PAY_1               0.325365\n",
       "PAY_2               0.263649\n",
       "PAY_3               0.238085\n",
       "PAY_4               0.219889\n",
       "PAY_5               0.204948\n",
       "PAY_6               0.190182\n",
       "LIMIT_BAL           0.154423\n",
       "PAY_AMT1            0.072431\n",
       "PAY_AMT2            0.061555\n",
       "PAY_AMT3            0.058010\n",
       "PAY_AMT5            0.056651\n",
       "PAY_AMT6            0.054838\n",
       "PAY_AMT4            0.054572\n",
       "EDUC_GRAD_SCHOOL    0.049595\n",
       "SEX                 0.039945\n",
       "EDUCATION           0.034966\n",
       "MARRIAGE            0.026030\n",
       "BILL_AMT1           0.020508\n",
       "BILL_AMT3           0.014649\n",
       "BILL_AMT2           0.014579\n",
       "AGE                 0.014334\n",
       "BILL_AMT4           0.011349\n",
       "BILL_AMT5           0.006753\n",
       "BILL_AMT6           0.006274\n",
       "Name: TARGET, dtype: float64"
      ]
     },
     "execution_count": 95,
     "metadata": {},
     "output_type": "execute_result"
    }
   ],
   "source": [
    "corr[\"TARGET\"].abs().sort_values(ascending=False)"
   ]
  },
  {
   "cell_type": "code",
   "execution_count": 86,
   "id": "a384a644-b5d9-4189-92c6-33f0bf9763a3",
   "metadata": {},
   "outputs": [
    {
     "data": {
      "text/html": [
       "<div>\n",
       "<style scoped>\n",
       "    .dataframe tbody tr th:only-of-type {\n",
       "        vertical-align: middle;\n",
       "    }\n",
       "\n",
       "    .dataframe tbody tr th {\n",
       "        vertical-align: top;\n",
       "    }\n",
       "\n",
       "    .dataframe thead th {\n",
       "        text-align: right;\n",
       "    }\n",
       "</style>\n",
       "<table border=\"1\" class=\"dataframe\">\n",
       "  <thead>\n",
       "    <tr style=\"text-align: right;\">\n",
       "      <th></th>\n",
       "      <th>ID</th>\n",
       "      <th>LIMIT_BAL</th>\n",
       "      <th>SEX</th>\n",
       "      <th>EDUCATION</th>\n",
       "      <th>MARRIAGE</th>\n",
       "      <th>AGE</th>\n",
       "      <th>PAY_1</th>\n",
       "      <th>PAY_2</th>\n",
       "      <th>PAY_3</th>\n",
       "      <th>PAY_4</th>\n",
       "      <th>PAY_5</th>\n",
       "      <th>PAY_6</th>\n",
       "      <th>BILL_AMT1</th>\n",
       "      <th>BILL_AMT2</th>\n",
       "      <th>BILL_AMT3</th>\n",
       "      <th>BILL_AMT4</th>\n",
       "      <th>BILL_AMT5</th>\n",
       "      <th>BILL_AMT6</th>\n",
       "      <th>PAY_AMT1</th>\n",
       "      <th>PAY_AMT2</th>\n",
       "      <th>PAY_AMT3</th>\n",
       "      <th>PAY_AMT4</th>\n",
       "      <th>PAY_AMT5</th>\n",
       "      <th>PAY_AMT6</th>\n",
       "      <th>TARGET</th>\n",
       "      <th>EDUCATION_CAT</th>\n",
       "      <th>EDUC_GRAD_SCHOOL</th>\n",
       "      <th>EDUC_HIGH_SCHOOL</th>\n",
       "      <th>EDUC_OTHERS</th>\n",
       "      <th>EDUC_UNIVERSITY</th>\n",
       "    </tr>\n",
       "  </thead>\n",
       "  <tbody>\n",
       "    <tr>\n",
       "      <th>0</th>\n",
       "      <td>798fc410-45c1</td>\n",
       "      <td>20000</td>\n",
       "      <td>2</td>\n",
       "      <td>2</td>\n",
       "      <td>1</td>\n",
       "      <td>24</td>\n",
       "      <td>2</td>\n",
       "      <td>2</td>\n",
       "      <td>-1</td>\n",
       "      <td>-1</td>\n",
       "      <td>-2</td>\n",
       "      <td>-2</td>\n",
       "      <td>3913</td>\n",
       "      <td>3102</td>\n",
       "      <td>689</td>\n",
       "      <td>0</td>\n",
       "      <td>0</td>\n",
       "      <td>0</td>\n",
       "      <td>0</td>\n",
       "      <td>689</td>\n",
       "      <td>0</td>\n",
       "      <td>0</td>\n",
       "      <td>0</td>\n",
       "      <td>0</td>\n",
       "      <td>1</td>\n",
       "      <td>university</td>\n",
       "      <td>0</td>\n",
       "      <td>0</td>\n",
       "      <td>0</td>\n",
       "      <td>1</td>\n",
       "    </tr>\n",
       "    <tr>\n",
       "      <th>1</th>\n",
       "      <td>8a8c8f3b-8eb4</td>\n",
       "      <td>120000</td>\n",
       "      <td>2</td>\n",
       "      <td>2</td>\n",
       "      <td>2</td>\n",
       "      <td>26</td>\n",
       "      <td>-1</td>\n",
       "      <td>2</td>\n",
       "      <td>0</td>\n",
       "      <td>0</td>\n",
       "      <td>0</td>\n",
       "      <td>2</td>\n",
       "      <td>2682</td>\n",
       "      <td>1725</td>\n",
       "      <td>2682</td>\n",
       "      <td>3272</td>\n",
       "      <td>3455</td>\n",
       "      <td>3261</td>\n",
       "      <td>0</td>\n",
       "      <td>1000</td>\n",
       "      <td>1000</td>\n",
       "      <td>1000</td>\n",
       "      <td>0</td>\n",
       "      <td>2000</td>\n",
       "      <td>1</td>\n",
       "      <td>university</td>\n",
       "      <td>0</td>\n",
       "      <td>0</td>\n",
       "      <td>0</td>\n",
       "      <td>1</td>\n",
       "    </tr>\n",
       "    <tr>\n",
       "      <th>2</th>\n",
       "      <td>85698822-43f5</td>\n",
       "      <td>90000</td>\n",
       "      <td>2</td>\n",
       "      <td>2</td>\n",
       "      <td>2</td>\n",
       "      <td>34</td>\n",
       "      <td>0</td>\n",
       "      <td>0</td>\n",
       "      <td>0</td>\n",
       "      <td>0</td>\n",
       "      <td>0</td>\n",
       "      <td>0</td>\n",
       "      <td>29239</td>\n",
       "      <td>14027</td>\n",
       "      <td>13559</td>\n",
       "      <td>14331</td>\n",
       "      <td>14948</td>\n",
       "      <td>15549</td>\n",
       "      <td>1518</td>\n",
       "      <td>1500</td>\n",
       "      <td>1000</td>\n",
       "      <td>1000</td>\n",
       "      <td>1000</td>\n",
       "      <td>5000</td>\n",
       "      <td>0</td>\n",
       "      <td>university</td>\n",
       "      <td>0</td>\n",
       "      <td>0</td>\n",
       "      <td>0</td>\n",
       "      <td>1</td>\n",
       "    </tr>\n",
       "    <tr>\n",
       "      <th>3</th>\n",
       "      <td>0737c11b-be42</td>\n",
       "      <td>50000</td>\n",
       "      <td>2</td>\n",
       "      <td>2</td>\n",
       "      <td>1</td>\n",
       "      <td>37</td>\n",
       "      <td>0</td>\n",
       "      <td>0</td>\n",
       "      <td>0</td>\n",
       "      <td>0</td>\n",
       "      <td>0</td>\n",
       "      <td>0</td>\n",
       "      <td>46990</td>\n",
       "      <td>48233</td>\n",
       "      <td>49291</td>\n",
       "      <td>28314</td>\n",
       "      <td>28959</td>\n",
       "      <td>29547</td>\n",
       "      <td>2000</td>\n",
       "      <td>2019</td>\n",
       "      <td>1200</td>\n",
       "      <td>1100</td>\n",
       "      <td>1069</td>\n",
       "      <td>1000</td>\n",
       "      <td>0</td>\n",
       "      <td>university</td>\n",
       "      <td>0</td>\n",
       "      <td>0</td>\n",
       "      <td>0</td>\n",
       "      <td>1</td>\n",
       "    </tr>\n",
       "    <tr>\n",
       "      <th>4</th>\n",
       "      <td>3b7f77cc-dbc0</td>\n",
       "      <td>50000</td>\n",
       "      <td>1</td>\n",
       "      <td>2</td>\n",
       "      <td>1</td>\n",
       "      <td>57</td>\n",
       "      <td>-1</td>\n",
       "      <td>0</td>\n",
       "      <td>-1</td>\n",
       "      <td>0</td>\n",
       "      <td>0</td>\n",
       "      <td>0</td>\n",
       "      <td>8617</td>\n",
       "      <td>5670</td>\n",
       "      <td>35835</td>\n",
       "      <td>20940</td>\n",
       "      <td>19146</td>\n",
       "      <td>19131</td>\n",
       "      <td>2000</td>\n",
       "      <td>36681</td>\n",
       "      <td>10000</td>\n",
       "      <td>9000</td>\n",
       "      <td>689</td>\n",
       "      <td>679</td>\n",
       "      <td>0</td>\n",
       "      <td>university</td>\n",
       "      <td>0</td>\n",
       "      <td>0</td>\n",
       "      <td>0</td>\n",
       "      <td>1</td>\n",
       "    </tr>\n",
       "    <tr>\n",
       "      <th>...</th>\n",
       "      <td>...</td>\n",
       "      <td>...</td>\n",
       "      <td>...</td>\n",
       "      <td>...</td>\n",
       "      <td>...</td>\n",
       "      <td>...</td>\n",
       "      <td>...</td>\n",
       "      <td>...</td>\n",
       "      <td>...</td>\n",
       "      <td>...</td>\n",
       "      <td>...</td>\n",
       "      <td>...</td>\n",
       "      <td>...</td>\n",
       "      <td>...</td>\n",
       "      <td>...</td>\n",
       "      <td>...</td>\n",
       "      <td>...</td>\n",
       "      <td>...</td>\n",
       "      <td>...</td>\n",
       "      <td>...</td>\n",
       "      <td>...</td>\n",
       "      <td>...</td>\n",
       "      <td>...</td>\n",
       "      <td>...</td>\n",
       "      <td>...</td>\n",
       "      <td>...</td>\n",
       "      <td>...</td>\n",
       "      <td>...</td>\n",
       "      <td>...</td>\n",
       "      <td>...</td>\n",
       "    </tr>\n",
       "    <tr>\n",
       "      <th>29995</th>\n",
       "      <td>ecff42d0-bdc6</td>\n",
       "      <td>220000</td>\n",
       "      <td>1</td>\n",
       "      <td>3</td>\n",
       "      <td>1</td>\n",
       "      <td>39</td>\n",
       "      <td>0</td>\n",
       "      <td>0</td>\n",
       "      <td>0</td>\n",
       "      <td>0</td>\n",
       "      <td>0</td>\n",
       "      <td>0</td>\n",
       "      <td>188948</td>\n",
       "      <td>192815</td>\n",
       "      <td>208365</td>\n",
       "      <td>88004</td>\n",
       "      <td>31237</td>\n",
       "      <td>15980</td>\n",
       "      <td>8500</td>\n",
       "      <td>20000</td>\n",
       "      <td>5003</td>\n",
       "      <td>3047</td>\n",
       "      <td>5000</td>\n",
       "      <td>1000</td>\n",
       "      <td>0</td>\n",
       "      <td>high school</td>\n",
       "      <td>0</td>\n",
       "      <td>1</td>\n",
       "      <td>0</td>\n",
       "      <td>0</td>\n",
       "    </tr>\n",
       "    <tr>\n",
       "      <th>29996</th>\n",
       "      <td>99d1fa0e-222b</td>\n",
       "      <td>150000</td>\n",
       "      <td>1</td>\n",
       "      <td>3</td>\n",
       "      <td>2</td>\n",
       "      <td>43</td>\n",
       "      <td>-1</td>\n",
       "      <td>-1</td>\n",
       "      <td>-1</td>\n",
       "      <td>-1</td>\n",
       "      <td>0</td>\n",
       "      <td>0</td>\n",
       "      <td>1683</td>\n",
       "      <td>1828</td>\n",
       "      <td>3502</td>\n",
       "      <td>8979</td>\n",
       "      <td>5190</td>\n",
       "      <td>0</td>\n",
       "      <td>1837</td>\n",
       "      <td>3526</td>\n",
       "      <td>8998</td>\n",
       "      <td>129</td>\n",
       "      <td>0</td>\n",
       "      <td>0</td>\n",
       "      <td>0</td>\n",
       "      <td>high school</td>\n",
       "      <td>0</td>\n",
       "      <td>1</td>\n",
       "      <td>0</td>\n",
       "      <td>0</td>\n",
       "    </tr>\n",
       "    <tr>\n",
       "      <th>29997</th>\n",
       "      <td>95cdd3e7-4f24</td>\n",
       "      <td>30000</td>\n",
       "      <td>1</td>\n",
       "      <td>2</td>\n",
       "      <td>2</td>\n",
       "      <td>37</td>\n",
       "      <td>4</td>\n",
       "      <td>3</td>\n",
       "      <td>2</td>\n",
       "      <td>-1</td>\n",
       "      <td>0</td>\n",
       "      <td>0</td>\n",
       "      <td>3565</td>\n",
       "      <td>3356</td>\n",
       "      <td>2758</td>\n",
       "      <td>20878</td>\n",
       "      <td>20582</td>\n",
       "      <td>19357</td>\n",
       "      <td>0</td>\n",
       "      <td>0</td>\n",
       "      <td>22000</td>\n",
       "      <td>4200</td>\n",
       "      <td>2000</td>\n",
       "      <td>3100</td>\n",
       "      <td>1</td>\n",
       "      <td>university</td>\n",
       "      <td>0</td>\n",
       "      <td>0</td>\n",
       "      <td>0</td>\n",
       "      <td>1</td>\n",
       "    </tr>\n",
       "    <tr>\n",
       "      <th>29998</th>\n",
       "      <td>00d03f02-04cd</td>\n",
       "      <td>80000</td>\n",
       "      <td>1</td>\n",
       "      <td>3</td>\n",
       "      <td>1</td>\n",
       "      <td>41</td>\n",
       "      <td>1</td>\n",
       "      <td>-1</td>\n",
       "      <td>0</td>\n",
       "      <td>0</td>\n",
       "      <td>0</td>\n",
       "      <td>-1</td>\n",
       "      <td>-1645</td>\n",
       "      <td>78379</td>\n",
       "      <td>76304</td>\n",
       "      <td>52774</td>\n",
       "      <td>11855</td>\n",
       "      <td>48944</td>\n",
       "      <td>85900</td>\n",
       "      <td>3409</td>\n",
       "      <td>1178</td>\n",
       "      <td>1926</td>\n",
       "      <td>52964</td>\n",
       "      <td>1804</td>\n",
       "      <td>1</td>\n",
       "      <td>high school</td>\n",
       "      <td>0</td>\n",
       "      <td>1</td>\n",
       "      <td>0</td>\n",
       "      <td>0</td>\n",
       "    </tr>\n",
       "    <tr>\n",
       "      <th>29999</th>\n",
       "      <td>15d69f9f-5ad3</td>\n",
       "      <td>50000</td>\n",
       "      <td>1</td>\n",
       "      <td>2</td>\n",
       "      <td>1</td>\n",
       "      <td>46</td>\n",
       "      <td>0</td>\n",
       "      <td>0</td>\n",
       "      <td>0</td>\n",
       "      <td>0</td>\n",
       "      <td>0</td>\n",
       "      <td>0</td>\n",
       "      <td>47929</td>\n",
       "      <td>48905</td>\n",
       "      <td>49764</td>\n",
       "      <td>36535</td>\n",
       "      <td>32428</td>\n",
       "      <td>15313</td>\n",
       "      <td>2078</td>\n",
       "      <td>1800</td>\n",
       "      <td>1430</td>\n",
       "      <td>1000</td>\n",
       "      <td>1000</td>\n",
       "      <td>1000</td>\n",
       "      <td>1</td>\n",
       "      <td>university</td>\n",
       "      <td>0</td>\n",
       "      <td>0</td>\n",
       "      <td>0</td>\n",
       "      <td>1</td>\n",
       "    </tr>\n",
       "  </tbody>\n",
       "</table>\n",
       "<p>26664 rows × 30 columns</p>\n",
       "</div>"
      ],
      "text/plain": [
       "                  ID  LIMIT_BAL  SEX  EDUCATION  MARRIAGE  AGE  PAY_1  PAY_2  \\\n",
       "0      798fc410-45c1      20000    2          2         1   24      2      2   \n",
       "1      8a8c8f3b-8eb4     120000    2          2         2   26     -1      2   \n",
       "2      85698822-43f5      90000    2          2         2   34      0      0   \n",
       "3      0737c11b-be42      50000    2          2         1   37      0      0   \n",
       "4      3b7f77cc-dbc0      50000    1          2         1   57     -1      0   \n",
       "...              ...        ...  ...        ...       ...  ...    ...    ...   \n",
       "29995  ecff42d0-bdc6     220000    1          3         1   39      0      0   \n",
       "29996  99d1fa0e-222b     150000    1          3         2   43     -1     -1   \n",
       "29997  95cdd3e7-4f24      30000    1          2         2   37      4      3   \n",
       "29998  00d03f02-04cd      80000    1          3         1   41      1     -1   \n",
       "29999  15d69f9f-5ad3      50000    1          2         1   46      0      0   \n",
       "\n",
       "       PAY_3  PAY_4  PAY_5  PAY_6  BILL_AMT1  BILL_AMT2  BILL_AMT3  BILL_AMT4  \\\n",
       "0         -1     -1     -2     -2       3913       3102        689          0   \n",
       "1          0      0      0      2       2682       1725       2682       3272   \n",
       "2          0      0      0      0      29239      14027      13559      14331   \n",
       "3          0      0      0      0      46990      48233      49291      28314   \n",
       "4         -1      0      0      0       8617       5670      35835      20940   \n",
       "...      ...    ...    ...    ...        ...        ...        ...        ...   \n",
       "29995      0      0      0      0     188948     192815     208365      88004   \n",
       "29996     -1     -1      0      0       1683       1828       3502       8979   \n",
       "29997      2     -1      0      0       3565       3356       2758      20878   \n",
       "29998      0      0      0     -1      -1645      78379      76304      52774   \n",
       "29999      0      0      0      0      47929      48905      49764      36535   \n",
       "\n",
       "       BILL_AMT5  BILL_AMT6  PAY_AMT1  PAY_AMT2  PAY_AMT3  PAY_AMT4  PAY_AMT5  \\\n",
       "0              0          0         0       689         0         0         0   \n",
       "1           3455       3261         0      1000      1000      1000         0   \n",
       "2          14948      15549      1518      1500      1000      1000      1000   \n",
       "3          28959      29547      2000      2019      1200      1100      1069   \n",
       "4          19146      19131      2000     36681     10000      9000       689   \n",
       "...          ...        ...       ...       ...       ...       ...       ...   \n",
       "29995      31237      15980      8500     20000      5003      3047      5000   \n",
       "29996       5190          0      1837      3526      8998       129         0   \n",
       "29997      20582      19357         0         0     22000      4200      2000   \n",
       "29998      11855      48944     85900      3409      1178      1926     52964   \n",
       "29999      32428      15313      2078      1800      1430      1000      1000   \n",
       "\n",
       "       PAY_AMT6  TARGET EDUCATION_CAT  EDUC_GRAD_SCHOOL  EDUC_HIGH_SCHOOL  \\\n",
       "0             0       1    university                 0                 0   \n",
       "1          2000       1    university                 0                 0   \n",
       "2          5000       0    university                 0                 0   \n",
       "3          1000       0    university                 0                 0   \n",
       "4           679       0    university                 0                 0   \n",
       "...         ...     ...           ...               ...               ...   \n",
       "29995      1000       0   high school                 0                 1   \n",
       "29996         0       0   high school                 0                 1   \n",
       "29997      3100       1    university                 0                 0   \n",
       "29998      1804       1   high school                 0                 1   \n",
       "29999      1000       1    university                 0                 0   \n",
       "\n",
       "       EDUC_OTHERS  EDUC_UNIVERSITY  \n",
       "0                0                1  \n",
       "1                0                1  \n",
       "2                0                1  \n",
       "3                0                1  \n",
       "4                0                1  \n",
       "...            ...              ...  \n",
       "29995            0                0  \n",
       "29996            0                0  \n",
       "29997            0                1  \n",
       "29998            0                0  \n",
       "29999            0                1  \n",
       "\n",
       "[26664 rows x 30 columns]"
      ]
     },
     "execution_count": 86,
     "metadata": {},
     "output_type": "execute_result"
    }
   ],
   "source": [
    "df"
   ]
  },
  {
   "cell_type": "code",
   "execution_count": null,
   "id": "e4eeaf13-b3de-4712-818a-5412aaf89ddd",
   "metadata": {},
   "outputs": [],
   "source": []
  }
 ],
 "metadata": {
  "kernelspec": {
   "display_name": "Python 3 (ipykernel)",
   "language": "python",
   "name": "python3"
  },
  "language_info": {
   "codemirror_mode": {
    "name": "ipython",
    "version": 3
   },
   "file_extension": ".py",
   "mimetype": "text/x-python",
   "name": "python",
   "nbconvert_exporter": "python",
   "pygments_lexer": "ipython3",
   "version": "3.11.2"
  }
 },
 "nbformat": 4,
 "nbformat_minor": 5
}
